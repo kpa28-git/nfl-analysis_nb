{
 "cells": [
  {
   "cell_type": "markdown",
   "metadata": {},
   "source": [
    "# Model"
   ]
  },
  {
   "cell_type": "markdown",
   "metadata": {},
   "source": [
    "© MIT Kevin Patel"
   ]
  },
  {
   "cell_type": "code",
   "execution_count": 1,
   "metadata": {
    "collapsed": false
   },
   "outputs": [],
   "source": [
    "import pandas as pd\n",
    "import numpy as np\n",
    "import re\n",
    "%matplotlib inline\n",
    "import matplotlib.pyplot as plt\n",
    "from altair import *\n",
    "import sklearn\n",
    "from sklearn.preprocessing import LabelEncoder\n",
    "from sklearn.model_selection import KFold, GridSearchCV\n",
    "from sklearn import svm\n",
    "from sklearn.tree import DecisionTreeClassifier\n",
    "from sklearn.ensemble import RandomForestClassifier, AdaBoostClassifier\n",
    "from sklearn.metrics import accuracy_score, precision_score, recall_score, f1_score, make_scorer"
   ]
  },
  {
   "cell_type": "code",
   "execution_count": 2,
   "metadata": {
    "collapsed": true
   },
   "outputs": [],
   "source": [
    "work_dir = './data/kpatel28/'\n",
    "using_year = '2016'\n",
    "raw_file_path = work_dir + using_year + '-nfl-all.csv'\n",
    "penalty_file_path = work_dir + using_year + '-nfl-penalties.csv'\n",
    "other_file_path = work_dir + using_year + '-nfl-other.csv'\n",
    "plays_file_path = work_dir + using_year + '-nfl-plays.csv'"
   ]
  },
  {
   "cell_type": "markdown",
   "metadata": {},
   "source": [
    "* Extract simple features from existing columns\n",
    "* Bin numerical columns that require it\n",
    "* Encode string features to be used with scikit-learn\n",
    "* Produce cross validated machine learning models based on NFL plays data"
   ]
  },
  {
   "cell_type": "code",
   "execution_count": 3,
   "metadata": {
    "collapsed": false
   },
   "outputs": [
    {
     "name": "stdout",
     "output_type": "stream",
     "text": [
      "Columns: GameId, GameDate, Quarter, Minute, Second, OffenseTeam, DefenseTeam, Down, ToGo, YardLine, SeriesFirstDown, Description, Yards, Formation, PlayType, IsRush, IsPass, IsCompleted, IsTouchdown, PassType, IsSack, IsChallenge, IsChallengeReversed, IsInterception, IsFumble, RushDirection, YardLineFixed, YardLineDirection\n"
     ]
    },
    {
     "data": {
      "text/html": [
       "<div>\n",
       "<table border=\"1\" class=\"dataframe\">\n",
       "  <thead>\n",
       "    <tr style=\"text-align: right;\">\n",
       "      <th></th>\n",
       "      <th>GameId</th>\n",
       "      <th>GameDate</th>\n",
       "      <th>Quarter</th>\n",
       "      <th>Minute</th>\n",
       "      <th>Second</th>\n",
       "      <th>OffenseTeam</th>\n",
       "      <th>DefenseTeam</th>\n",
       "      <th>Down</th>\n",
       "      <th>ToGo</th>\n",
       "      <th>YardLine</th>\n",
       "      <th>...</th>\n",
       "      <th>IsTouchdown</th>\n",
       "      <th>PassType</th>\n",
       "      <th>IsSack</th>\n",
       "      <th>IsChallenge</th>\n",
       "      <th>IsChallengeReversed</th>\n",
       "      <th>IsInterception</th>\n",
       "      <th>IsFumble</th>\n",
       "      <th>RushDirection</th>\n",
       "      <th>YardLineFixed</th>\n",
       "      <th>YardLineDirection</th>\n",
       "    </tr>\n",
       "  </thead>\n",
       "  <tbody>\n",
       "    <tr>\n",
       "      <th>0</th>\n",
       "      <td>2016091102</td>\n",
       "      <td>2016-09-11</td>\n",
       "      <td>3</td>\n",
       "      <td>13</td>\n",
       "      <td>9</td>\n",
       "      <td>HOU</td>\n",
       "      <td>CHI</td>\n",
       "      <td>1</td>\n",
       "      <td>15</td>\n",
       "      <td>85</td>\n",
       "      <td>...</td>\n",
       "      <td>0</td>\n",
       "      <td>SHORT LEFT</td>\n",
       "      <td>0</td>\n",
       "      <td>0</td>\n",
       "      <td>0</td>\n",
       "      <td>0</td>\n",
       "      <td>0</td>\n",
       "      <td>NOT APPLICABLE</td>\n",
       "      <td>15</td>\n",
       "      <td>OPP</td>\n",
       "    </tr>\n",
       "    <tr>\n",
       "      <th>1</th>\n",
       "      <td>2016091105</td>\n",
       "      <td>2016-09-11</td>\n",
       "      <td>2</td>\n",
       "      <td>1</td>\n",
       "      <td>32</td>\n",
       "      <td>NO</td>\n",
       "      <td>OAK</td>\n",
       "      <td>2</td>\n",
       "      <td>10</td>\n",
       "      <td>47</td>\n",
       "      <td>...</td>\n",
       "      <td>0</td>\n",
       "      <td>SHORT RIGHT</td>\n",
       "      <td>0</td>\n",
       "      <td>0</td>\n",
       "      <td>0</td>\n",
       "      <td>0</td>\n",
       "      <td>0</td>\n",
       "      <td>NOT APPLICABLE</td>\n",
       "      <td>47</td>\n",
       "      <td>OWN</td>\n",
       "    </tr>\n",
       "    <tr>\n",
       "      <th>2</th>\n",
       "      <td>2016091105</td>\n",
       "      <td>2016-09-11</td>\n",
       "      <td>2</td>\n",
       "      <td>1</td>\n",
       "      <td>26</td>\n",
       "      <td>NO</td>\n",
       "      <td>OAK</td>\n",
       "      <td>3</td>\n",
       "      <td>4</td>\n",
       "      <td>53</td>\n",
       "      <td>...</td>\n",
       "      <td>0</td>\n",
       "      <td>DEEP LEFT</td>\n",
       "      <td>0</td>\n",
       "      <td>0</td>\n",
       "      <td>0</td>\n",
       "      <td>0</td>\n",
       "      <td>0</td>\n",
       "      <td>NOT APPLICABLE</td>\n",
       "      <td>47</td>\n",
       "      <td>OPP</td>\n",
       "    </tr>\n",
       "    <tr>\n",
       "      <th>3</th>\n",
       "      <td>2016091105</td>\n",
       "      <td>2016-09-11</td>\n",
       "      <td>2</td>\n",
       "      <td>1</td>\n",
       "      <td>20</td>\n",
       "      <td>NO</td>\n",
       "      <td>OAK</td>\n",
       "      <td>4</td>\n",
       "      <td>9</td>\n",
       "      <td>48</td>\n",
       "      <td>...</td>\n",
       "      <td>0</td>\n",
       "      <td>NOT APPLICABLE</td>\n",
       "      <td>0</td>\n",
       "      <td>0</td>\n",
       "      <td>0</td>\n",
       "      <td>0</td>\n",
       "      <td>0</td>\n",
       "      <td>NOT APPLICABLE</td>\n",
       "      <td>48</td>\n",
       "      <td>OWN</td>\n",
       "    </tr>\n",
       "    <tr>\n",
       "      <th>4</th>\n",
       "      <td>2016091105</td>\n",
       "      <td>2016-09-11</td>\n",
       "      <td>2</td>\n",
       "      <td>1</td>\n",
       "      <td>11</td>\n",
       "      <td>OAK</td>\n",
       "      <td>NO</td>\n",
       "      <td>1</td>\n",
       "      <td>10</td>\n",
       "      <td>18</td>\n",
       "      <td>...</td>\n",
       "      <td>0</td>\n",
       "      <td>SHORT MIDDLE</td>\n",
       "      <td>0</td>\n",
       "      <td>0</td>\n",
       "      <td>0</td>\n",
       "      <td>0</td>\n",
       "      <td>0</td>\n",
       "      <td>NOT APPLICABLE</td>\n",
       "      <td>18</td>\n",
       "      <td>OWN</td>\n",
       "    </tr>\n",
       "  </tbody>\n",
       "</table>\n",
       "<p>5 rows × 28 columns</p>\n",
       "</div>"
      ],
      "text/plain": [
       "       GameId    GameDate  Quarter  Minute  Second OffenseTeam DefenseTeam  \\\n",
       "0  2016091102  2016-09-11        3      13       9         HOU         CHI   \n",
       "1  2016091105  2016-09-11        2       1      32          NO         OAK   \n",
       "2  2016091105  2016-09-11        2       1      26          NO         OAK   \n",
       "3  2016091105  2016-09-11        2       1      20          NO         OAK   \n",
       "4  2016091105  2016-09-11        2       1      11         OAK          NO   \n",
       "\n",
       "   Down  ToGo  YardLine        ...         IsTouchdown        PassType  \\\n",
       "0     1    15        85        ...                   0      SHORT LEFT   \n",
       "1     2    10        47        ...                   0     SHORT RIGHT   \n",
       "2     3     4        53        ...                   0       DEEP LEFT   \n",
       "3     4     9        48        ...                   0  NOT APPLICABLE   \n",
       "4     1    10        18        ...                   0    SHORT MIDDLE   \n",
       "\n",
       "   IsSack IsChallenge IsChallengeReversed  IsInterception  IsFumble  \\\n",
       "0       0           0                   0               0         0   \n",
       "1       0           0                   0               0         0   \n",
       "2       0           0                   0               0         0   \n",
       "3       0           0                   0               0         0   \n",
       "4       0           0                   0               0         0   \n",
       "\n",
       "    RushDirection  YardLineFixed YardLineDirection  \n",
       "0  NOT APPLICABLE             15               OPP  \n",
       "1  NOT APPLICABLE             47               OWN  \n",
       "2  NOT APPLICABLE             47               OPP  \n",
       "3  NOT APPLICABLE             48               OWN  \n",
       "4  NOT APPLICABLE             18               OWN  \n",
       "\n",
       "[5 rows x 28 columns]"
      ]
     },
     "execution_count": 3,
     "metadata": {},
     "output_type": "execute_result"
    }
   ],
   "source": [
    "plays = pd.read_csv(plays_file_path)\n",
    "print('Columns:', ', '.join(plays.columns))\n",
    "plays.head()"
   ]
  },
  {
   "cell_type": "markdown",
   "metadata": {},
   "source": [
    "## Feature Engineering"
   ]
  },
  {
   "cell_type": "markdown",
   "metadata": {},
   "source": [
    "### Extracting simple features"
   ]
  },
  {
   "cell_type": "markdown",
   "metadata": {},
   "source": [
    "Here we add/extract some more features that won't take too much work to include but could provide data separability:"
   ]
  },
  {
   "cell_type": "code",
   "execution_count": 4,
   "metadata": {
    "collapsed": true
   },
   "outputs": [],
   "source": [
    "plays['GameMonth'] = plays['GameDate'].apply(lambda x: int(x[5:7]))"
   ]
  },
  {
   "cell_type": "markdown",
   "metadata": {},
   "source": [
    "### Binning Numerical Features"
   ]
  },
  {
   "cell_type": "markdown",
   "metadata": {},
   "source": [
    "Not all numerical features in this data need to be binned (all of them are integers and some don't have enough classes to require binning). The following columns may need some binning: Second, ToGo, YardLine, YardLineFixed, and Yards (in order to use classification)."
   ]
  },
  {
   "cell_type": "markdown",
   "metadata": {},
   "source": [
    "Let's define a basic round to the nearest base function here:"
   ]
  },
  {
   "cell_type": "code",
   "execution_count": 5,
   "metadata": {
    "collapsed": true
   },
   "outputs": [],
   "source": [
    "def round_nearest_int(x, base=10):\n",
    "    return int(base * round(float(x)/base))"
   ]
  },
  {
   "cell_type": "markdown",
   "metadata": {},
   "source": [
    "### Second"
   ]
  },
  {
   "cell_type": "markdown",
   "metadata": {},
   "source": [
    "Because the Second column is generally evenly distributed (except for zero) and there are only sixty unique values (a small number compared to the 30k+ rows), binning may not be necessary. Still, we'll bin by rounding to the nearest ten to see if this feature will be more useful and less noisy than the original."
   ]
  },
  {
   "cell_type": "code",
   "execution_count": 6,
   "metadata": {
    "collapsed": false
   },
   "outputs": [
    {
     "name": "stdout",
     "output_type": "stream",
     "text": [
      "unique values: 60\n"
     ]
    },
    {
     "data": {
      "image/png": "[encoded data removed]",
      "text/plain": [
       "<matplotlib.figure.Figure at 0x187182d3748>"
      ]
     },
     "metadata": {},
     "output_type": "display_data"
    }
   ],
   "source": [
    "plt.hist(plays['Second'], bins=20);\n",
    "print('unique values:', len(plays['Second'].unique()))"
   ]
  },
  {
   "cell_type": "code",
   "execution_count": 7,
   "metadata": {
    "collapsed": false
   },
   "outputs": [
    {
     "data": {
      "image/png": "[encoded data removed]",
      "text/plain": [
       "<matplotlib.figure.Figure at 0x187182d3438>"
      ]
     },
     "metadata": {},
     "output_type": "display_data"
    }
   ],
   "source": [
    "plays['BinnedSecond'] = plays['Second'].map(lambda x: round_nearest_int(x, 10))\n",
    "plays['BinnedSecond'].head()\n",
    "plt.hist(plays['BinnedSecond'], bins=5);"
   ]
  },
  {
   "cell_type": "code",
   "execution_count": 8,
   "metadata": {
    "collapsed": false
   },
   "outputs": [],
   "source": [
    "assert((plays['BinnedSecond'] % 10 == 0).all())\n",
    "assert(len(set(plays['BinnedSecond']))==7)"
   ]
  },
  {
   "cell_type": "markdown",
   "metadata": {},
   "source": [
    "### ToGo"
   ]
  },
  {
   "cell_type": "code",
   "execution_count": 9,
   "metadata": {
    "collapsed": false
   },
   "outputs": [
    {
     "name": "stdout",
     "output_type": "stream",
     "text": [
      "unique values: 39\n"
     ]
    },
    {
     "data": {
      "image/png": "[encoded data removed]",
      "text/plain": [
       "<matplotlib.figure.Figure at 0x18718762940>"
      ]
     },
     "metadata": {},
     "output_type": "display_data"
    }
   ],
   "source": [
    "plt.hist(plays['ToGo'], bins=20);\n",
    "print('unique values:', len(plays['ToGo'].unique()))"
   ]
  },
  {
   "cell_type": "markdown",
   "metadata": {},
   "source": [
    "Rounding ToGo to the nearest ten preserves the most important aspects of the distribution while removing noise that would hamper a learning algorithm: "
   ]
  },
  {
   "cell_type": "code",
   "execution_count": 10,
   "metadata": {
    "collapsed": false
   },
   "outputs": [
    {
     "data": {
      "image/png": "[encoded data removed]",
      "text/plain": [
       "<matplotlib.figure.Figure at 0x18718716b70>"
      ]
     },
     "metadata": {},
     "output_type": "display_data"
    }
   ],
   "source": [
    "plays['BinnedToGo'] = plays['ToGo'].map(lambda x: round_nearest_int(x, 10))\n",
    "plt.hist(plays['BinnedToGo'], bins=20);"
   ]
  },
  {
   "cell_type": "code",
   "execution_count": 11,
   "metadata": {
    "collapsed": false
   },
   "outputs": [],
   "source": [
    "assert((plays['BinnedToGo'] % 10 == 0).all())\n",
    "assert(len(set(plays['BinnedToGo']))==5)"
   ]
  },
  {
   "cell_type": "markdown",
   "metadata": {},
   "source": [
    "### YardLine"
   ]
  },
  {
   "cell_type": "code",
   "execution_count": 12,
   "metadata": {
    "collapsed": false
   },
   "outputs": [
    {
     "name": "stdout",
     "output_type": "stream",
     "text": [
      "unique values: 99\n"
     ]
    },
    {
     "data": {
      "image/png": "[encoded data removed]",
      "text/plain": [
       "<matplotlib.figure.Figure at 0x187186bf588>"
      ]
     },
     "metadata": {},
     "output_type": "display_data"
    }
   ],
   "source": [
    "plt.hist(plays['YardLine'], bins=20);\n",
    "print('unique values:', len(plays['YardLine'].unique()))"
   ]
  },
  {
   "cell_type": "markdown",
   "metadata": {},
   "source": [
    "For YardLine the nearest 12 yard value seems to be a better rounding value than ten for preserving the shape of the distribution:"
   ]
  },
  {
   "cell_type": "code",
   "execution_count": 13,
   "metadata": {
    "collapsed": false
   },
   "outputs": [
    {
     "data": {
      "image/png": "[encoded data removed]",
      "text/plain": [
       "<matplotlib.figure.Figure at 0x18718762d68>"
      ]
     },
     "metadata": {},
     "output_type": "display_data"
    }
   ],
   "source": [
    "plays['BinnedYardLine'] = plays['YardLine'].map(lambda x: round_nearest_int(x, 12))\n",
    "plt.hist(plays['BinnedYardLine'], bins=8);"
   ]
  },
  {
   "cell_type": "code",
   "execution_count": 14,
   "metadata": {
    "collapsed": true
   },
   "outputs": [],
   "source": [
    "assert((plays['BinnedYardLine'] % 12 == 0).all())"
   ]
  },
  {
   "cell_type": "markdown",
   "metadata": {},
   "source": [
    "### YardLineFixed"
   ]
  },
  {
   "cell_type": "code",
   "execution_count": 15,
   "metadata": {
    "collapsed": false
   },
   "outputs": [
    {
     "name": "stdout",
     "output_type": "stream",
     "text": [
      "unique values: 50\n"
     ]
    },
    {
     "data": {
      "image/png": "[encoded data removed]",
      "text/plain": [
       "<matplotlib.figure.Figure at 0x18718935a58>"
      ]
     },
     "metadata": {},
     "output_type": "display_data"
    }
   ],
   "source": [
    "plt.hist(plays['YardLineFixed'], bins=20);\n",
    "print('unique values:', len(plays['YardLineFixed'].unique()))"
   ]
  },
  {
   "cell_type": "markdown",
   "metadata": {},
   "source": [
    "For YardLineFixed the nearest 5 yard value seems to be a better rounding value than ten for preserving the shape of the distribution:"
   ]
  },
  {
   "cell_type": "code",
   "execution_count": 16,
   "metadata": {
    "collapsed": false
   },
   "outputs": [
    {
     "data": {
      "image/png": "[encoded data removed]",
      "text/plain": [
       "<matplotlib.figure.Figure at 0x18718935fd0>"
      ]
     },
     "metadata": {},
     "output_type": "display_data"
    }
   ],
   "source": [
    "plays['BinnedYardLineFixed'] = plays['YardLineFixed'].map(lambda x: round_nearest_int(x, 5))\n",
    "plt.hist(plays['BinnedYardLineFixed'], bins=11);"
   ]
  },
  {
   "cell_type": "code",
   "execution_count": 17,
   "metadata": {
    "collapsed": true
   },
   "outputs": [],
   "source": [
    "assert((plays['BinnedYardLineFixed'] % 5 == 0).all())"
   ]
  },
  {
   "cell_type": "markdown",
   "metadata": {},
   "source": [
    "### Yards"
   ]
  },
  {
   "cell_type": "code",
   "execution_count": 18,
   "metadata": {
    "collapsed": false
   },
   "outputs": [
    {
     "data": {
      "image/png": "[encoded data removed]",
      "text/plain": [
       "<matplotlib.figure.Figure at 0x187187b3a20>"
      ]
     },
     "metadata": {},
     "output_type": "display_data"
    }
   ],
   "source": [
    "plt.hist(plays['Yards'], bins=20);"
   ]
  },
  {
   "cell_type": "markdown",
   "metadata": {},
   "source": [
    "For the Yards column, binning to the nearest ten works well:"
   ]
  },
  {
   "cell_type": "code",
   "execution_count": 19,
   "metadata": {
    "collapsed": false
   },
   "outputs": [
    {
     "data": {
      "image/png": "[encoded data removed]",
      "text/plain": [
       "<matplotlib.figure.Figure at 0x18718aafc18>"
      ]
     },
     "metadata": {},
     "output_type": "display_data"
    }
   ],
   "source": [
    "plays['BinnedYards'] = plays['Yards'].map(lambda x: round_nearest_int(x, 10))\n",
    "plt.hist(plays['BinnedYards'], bins=20);"
   ]
  },
  {
   "cell_type": "code",
   "execution_count": 20,
   "metadata": {
    "collapsed": true
   },
   "outputs": [],
   "source": [
    "assert((plays['BinnedYards'] % 10 == 0).all())"
   ]
  },
  {
   "cell_type": "markdown",
   "metadata": {},
   "source": [
    "We also add a SignYards column for the sign of yardage gain or loss:"
   ]
  },
  {
   "cell_type": "code",
   "execution_count": 21,
   "metadata": {
    "collapsed": false
   },
   "outputs": [
    {
     "data": {
      "image/png": "[encoded data removed]",
      "text/plain": [
       "<matplotlib.figure.Figure at 0x187189ac898>"
      ]
     },
     "metadata": {},
     "output_type": "display_data"
    }
   ],
   "source": [
    "plays['SignYards'] = plays['Yards'].map(np.sign)\n",
    "plt.hist(plays['SignYards'], bins=20);"
   ]
  },
  {
   "cell_type": "markdown",
   "metadata": {},
   "source": [
    "### Encode String Features"
   ]
  },
  {
   "cell_type": "markdown",
   "metadata": {},
   "source": [
    "String based features have to be encoded to numerial features in order for scikit-learn to be able to use them. One hot encoding is the preferred method because it prevents learning models from treating non-ordinal features as ordinal, but it cannot be used with variables that contain many classes because memory usage would skyrocket. A simple encoding from string to number will need to be used for OffenseTeam and DefenseTeam. All the other string features will be encoded using one hot encoding:"
   ]
  },
  {
   "cell_type": "code",
   "execution_count": 22,
   "metadata": {
    "collapsed": false
   },
   "outputs": [],
   "source": [
    "label_encoder = LabelEncoder()\n",
    "plays['Enc_OffenseTeam'] = label_encoder.fit_transform(plays['OffenseTeam'])\n",
    "plays['Enc_DefenseTeam'] = label_encoder.fit_transform(plays['DefenseTeam'])"
   ]
  },
  {
   "cell_type": "markdown",
   "metadata": {},
   "source": [
    "The one-hot encodings below produce 30 columns! If we had one-hot encoded the teams data that would have added 62 more:"
   ]
  },
  {
   "cell_type": "code",
   "execution_count": 23,
   "metadata": {
    "collapsed": false
   },
   "outputs": [],
   "source": [
    "one_hot = pd.get_dummies(plays[['YardLineDirection', 'Formation', 'PlayType', 'PassType', 'RushDirection']],\n",
    "                         prefix={'YardLineDirection':'YARDDIR', 'Formation':'FORM', 'PlayType':'PLAY', 'PassType':'PASS', 'RushDirection':'RUSHDIR'},\n",
    "                         prefix_sep='_', drop_first=True)\n",
    "plays = pd.concat([plays, one_hot], axis=1, join='inner')"
   ]
  },
  {
   "cell_type": "code",
   "execution_count": 24,
   "metadata": {
    "collapsed": true
   },
   "outputs": [],
   "source": [
    "file_path = work_dir + using_year + '-nfl-plays_final.csv'\n",
    "plays.to_csv(file_path, index=False)"
   ]
  },
  {
   "cell_type": "code",
   "execution_count": 25,
   "metadata": {
    "collapsed": false
   },
   "outputs": [
    {
     "name": "stdout",
     "output_type": "stream",
     "text": [
      "Columns: GameId, GameDate, Quarter, Minute, Second, OffenseTeam, DefenseTeam, Down, ToGo, YardLine, SeriesFirstDown, Description, Yards, Formation, PlayType, IsRush, IsPass, IsCompleted, IsTouchdown, PassType, IsSack, IsChallenge, IsChallengeReversed, IsInterception, IsFumble, RushDirection, YardLineFixed, YardLineDirection, GameMonth, BinnedSecond, BinnedToGo, BinnedYardLine, BinnedYardLineFixed, BinnedYards, SignYards, Enc_OffenseTeam, Enc_DefenseTeam, YARDDIR_OWN, FORM_NO HUDDLE, FORM_NO HUDDLE SHOTGUN, FORM_PUNT, FORM_SHOTGUN, FORM_UNDER CENTER, PLAY_DIRECT SNAP, PLAY_EXCEPTION, PLAY_FIELD GOAL, PLAY_FUMBLES, PLAY_PASS, PLAY_PUNT, PLAY_QB KNEEL, PLAY_RUSH, PLAY_SACK, PLAY_SCRAMBLE, PASS_DEEP MIDDLE, PASS_DEEP RIGHT, PASS_NOT APPLICABLE, PASS_SHORT LEFT, PASS_SHORT MIDDLE, PASS_SHORT RIGHT, PASS_UNKNOWN, RUSHDIR_LEFT END, RUSHDIR_LEFT GUARD, RUSHDIR_LEFT TACKLE, RUSHDIR_NOT APPLICABLE, RUSHDIR_RIGHT END, RUSHDIR_RIGHT GUARD, RUSHDIR_RIGHT TACKLE\n"
     ]
    }
   ],
   "source": [
    "file_path = work_dir + using_year + '-nfl-plays_final.csv'\n",
    "plays = pd.read_csv(file_path)\n",
    "print('Columns:', ', '.join(plays.columns))"
   ]
  },
  {
   "cell_type": "markdown",
   "metadata": {},
   "source": [
    "## Machine Learning Classifiers"
   ]
  },
  {
   "cell_type": "markdown",
   "metadata": {},
   "source": [
    "The following is a simple function that takes a feature dataframe, label series, and scikit-learn interface classifier and returns the average accuracy, precision, recall, and feature importance (if available) over k folds:"
   ]
  },
  {
   "cell_type": "code",
   "execution_count": 26,
   "metadata": {
    "collapsed": false
   },
   "outputs": [],
   "source": [
    "def KFoldClassification(features, labels, clf, numTimes=5, imp=True):\n",
    "    kf = KFold(n_splits=numTimes, shuffle=True)\n",
    "    accuracy = np.zeros(kf.get_n_splits())\n",
    "    precision = np.zeros(kf.get_n_splits())\n",
    "    recall = np.zeros(kf.get_n_splits())\n",
    "    importances = pd.DataFrame()\n",
    "    i=0\n",
    "    for train_idx, test_idx in kf.split(features):\n",
    "        train_feats = features.iloc[train_idx]\n",
    "        train_labels = labels.iloc[train_idx]\n",
    "        clf.fit(train_feats, train_labels)\n",
    "\n",
    "        test_feats = features.iloc[test_idx]\n",
    "        test_labels = labels.iloc[test_idx]\n",
    "        predictions = clf.predict(test_feats)\n",
    "        accuracy[i] = accuracy_score(test_labels, predictions)\n",
    "        precision[i] = precision_score(test_labels, predictions, labels=test_labels.unique(), average='macro')\n",
    "        recall[i] = recall_score(test_labels, predictions, labels=test_labels.unique(), average='macro')\n",
    "        i += 1\n",
    "        if (imp):\n",
    "            importances[i] = clf.feature_importances_\n",
    "\n",
    "    stats = pd.DataFrame({'accuracy': accuracy.mean(), 'precision': precision.mean(), 'recall': recall.mean()}, index=[0])\n",
    "    avg_importance_df = None\n",
    "    if (imp):\n",
    "        avg_importance = importances.mean(axis=1)\n",
    "        avg_importance_df = pd.DataFrame({'feature':features.columns, 'avg_importance':avg_importance}).sort_values('avg_importance', ascending=False)\n",
    "    return stats, avg_importance_df"
   ]
  },
  {
   "cell_type": "markdown",
   "metadata": {},
   "source": [
    "### Yardage Prediction"
   ]
  },
  {
   "cell_type": "markdown",
   "metadata": {},
   "source": [
    "The following is an untuned model built to predict whether a play leads to a yardage gain (1), no advance (0), or a yardage loss (-1)"
   ]
  },
  {
   "cell_type": "code",
   "execution_count": 27,
   "metadata": {
    "collapsed": false
   },
   "outputs": [],
   "source": [
    "feats = plays[['GameMonth', 'Quarter', 'Minute', 'Second', 'BinnedSecond',\n",
    "               'Down', 'ToGo', 'BinnedToGo', 'YardLine', 'BinnedYardLine',\n",
    "               'YardLineFixed', 'BinnedYardLineFixed', 'IsPass', 'IsRush',\n",
    "               'Enc_OffenseTeam', 'Enc_DefenseTeam',\n",
    "               'YARDDIR_OWN',\n",
    "               'FORM_NO HUDDLE', 'FORM_NO HUDDLE SHOTGUN', 'FORM_PUNT',\n",
    "               'FORM_SHOTGUN', 'FORM_UNDER CENTER',\n",
    "               'PLAY_DIRECT SNAP', 'PLAY_EXCEPTION', 'PLAY_FIELD GOAL', 'PLAY_FUMBLES', 'PLAY_PASS',\n",
    "               'PLAY_PUNT', 'PLAY_QB KNEEL', 'PLAY_RUSH', 'PLAY_SACK', 'PLAY_SCRAMBLE',\n",
    "               'PASS_DEEP MIDDLE', 'PASS_DEEP RIGHT', 'PASS_NOT APPLICABLE',\n",
    "               'PASS_SHORT LEFT', 'PASS_SHORT MIDDLE', 'PASS_SHORT RIGHT', 'PASS_UNKNOWN',\n",
    "               'RUSHDIR_LEFT END', 'RUSHDIR_LEFT GUARD', 'RUSHDIR_LEFT TACKLE',\n",
    "               'RUSHDIR_NOT APPLICABLE', 'RUSHDIR_RIGHT END', 'RUSHDIR_RIGHT GUARD',\n",
    "               'RUSHDIR_RIGHT TACKLE'\n",
    "              ]]"
   ]
  },
  {
   "cell_type": "code",
   "execution_count": 28,
   "metadata": {
    "collapsed": false
   },
   "outputs": [
    {
     "name": "stdout",
     "output_type": "stream",
     "text": [
      "   accuracy  precision    recall\n",
      "0  0.714351    0.73467  0.600105\n"
     ]
    },
    {
     "data": {
      "text/html": [
       "<div>\n",
       "<table border=\"1\" class=\"dataframe\">\n",
       "  <thead>\n",
       "    <tr style=\"text-align: right;\">\n",
       "      <th></th>\n",
       "      <th>avg_importance</th>\n",
       "      <th>feature</th>\n",
       "    </tr>\n",
       "  </thead>\n",
       "  <tbody>\n",
       "    <tr>\n",
       "      <th>15</th>\n",
       "      <td>0.072847</td>\n",
       "      <td>Enc_DefenseTeam</td>\n",
       "    </tr>\n",
       "    <tr>\n",
       "      <th>3</th>\n",
       "      <td>0.072601</td>\n",
       "      <td>Second</td>\n",
       "    </tr>\n",
       "    <tr>\n",
       "      <th>14</th>\n",
       "      <td>0.070059</td>\n",
       "      <td>Enc_OffenseTeam</td>\n",
       "    </tr>\n",
       "    <tr>\n",
       "      <th>2</th>\n",
       "      <td>0.062300</td>\n",
       "      <td>Minute</td>\n",
       "    </tr>\n",
       "    <tr>\n",
       "      <th>8</th>\n",
       "      <td>0.058346</td>\n",
       "      <td>YardLine</td>\n",
       "    </tr>\n",
       "    <tr>\n",
       "      <th>5</th>\n",
       "      <td>0.056117</td>\n",
       "      <td>Down</td>\n",
       "    </tr>\n",
       "    <tr>\n",
       "      <th>10</th>\n",
       "      <td>0.054539</td>\n",
       "      <td>YardLineFixed</td>\n",
       "    </tr>\n",
       "    <tr>\n",
       "      <th>13</th>\n",
       "      <td>0.050818</td>\n",
       "      <td>IsRush</td>\n",
       "    </tr>\n",
       "    <tr>\n",
       "      <th>0</th>\n",
       "      <td>0.039014</td>\n",
       "      <td>GameMonth</td>\n",
       "    </tr>\n",
       "    <tr>\n",
       "      <th>6</th>\n",
       "      <td>0.038435</td>\n",
       "      <td>ToGo</td>\n",
       "    </tr>\n",
       "    <tr>\n",
       "      <th>30</th>\n",
       "      <td>0.038307</td>\n",
       "      <td>PLAY_SACK</td>\n",
       "    </tr>\n",
       "    <tr>\n",
       "      <th>4</th>\n",
       "      <td>0.037612</td>\n",
       "      <td>BinnedSecond</td>\n",
       "    </tr>\n",
       "    <tr>\n",
       "      <th>1</th>\n",
       "      <td>0.035931</td>\n",
       "      <td>Quarter</td>\n",
       "    </tr>\n",
       "    <tr>\n",
       "      <th>11</th>\n",
       "      <td>0.029407</td>\n",
       "      <td>BinnedYardLineFixed</td>\n",
       "    </tr>\n",
       "    <tr>\n",
       "      <th>27</th>\n",
       "      <td>0.024224</td>\n",
       "      <td>PLAY_PUNT</td>\n",
       "    </tr>\n",
       "    <tr>\n",
       "      <th>19</th>\n",
       "      <td>0.022769</td>\n",
       "      <td>FORM_PUNT</td>\n",
       "    </tr>\n",
       "    <tr>\n",
       "      <th>42</th>\n",
       "      <td>0.022054</td>\n",
       "      <td>RUSHDIR_NOT APPLICABLE</td>\n",
       "    </tr>\n",
       "    <tr>\n",
       "      <th>9</th>\n",
       "      <td>0.020961</td>\n",
       "      <td>BinnedYardLine</td>\n",
       "    </tr>\n",
       "    <tr>\n",
       "      <th>29</th>\n",
       "      <td>0.019954</td>\n",
       "      <td>PLAY_RUSH</td>\n",
       "    </tr>\n",
       "    <tr>\n",
       "      <th>20</th>\n",
       "      <td>0.018783</td>\n",
       "      <td>FORM_SHOTGUN</td>\n",
       "    </tr>\n",
       "    <tr>\n",
       "      <th>34</th>\n",
       "      <td>0.016627</td>\n",
       "      <td>PASS_NOT APPLICABLE</td>\n",
       "    </tr>\n",
       "    <tr>\n",
       "      <th>26</th>\n",
       "      <td>0.016228</td>\n",
       "      <td>PLAY_PASS</td>\n",
       "    </tr>\n",
       "    <tr>\n",
       "      <th>12</th>\n",
       "      <td>0.012710</td>\n",
       "      <td>IsPass</td>\n",
       "    </tr>\n",
       "    <tr>\n",
       "      <th>7</th>\n",
       "      <td>0.010775</td>\n",
       "      <td>BinnedToGo</td>\n",
       "    </tr>\n",
       "    <tr>\n",
       "      <th>21</th>\n",
       "      <td>0.010768</td>\n",
       "      <td>FORM_UNDER CENTER</td>\n",
       "    </tr>\n",
       "    <tr>\n",
       "      <th>31</th>\n",
       "      <td>0.007940</td>\n",
       "      <td>PLAY_SCRAMBLE</td>\n",
       "    </tr>\n",
       "    <tr>\n",
       "      <th>24</th>\n",
       "      <td>0.007900</td>\n",
       "      <td>PLAY_FIELD GOAL</td>\n",
       "    </tr>\n",
       "    <tr>\n",
       "      <th>37</th>\n",
       "      <td>0.007687</td>\n",
       "      <td>PASS_SHORT RIGHT</td>\n",
       "    </tr>\n",
       "    <tr>\n",
       "      <th>18</th>\n",
       "      <td>0.007229</td>\n",
       "      <td>FORM_NO HUDDLE SHOTGUN</td>\n",
       "    </tr>\n",
       "    <tr>\n",
       "      <th>35</th>\n",
       "      <td>0.007011</td>\n",
       "      <td>PASS_SHORT LEFT</td>\n",
       "    </tr>\n",
       "    <tr>\n",
       "      <th>33</th>\n",
       "      <td>0.006682</td>\n",
       "      <td>PASS_DEEP RIGHT</td>\n",
       "    </tr>\n",
       "    <tr>\n",
       "      <th>16</th>\n",
       "      <td>0.006463</td>\n",
       "      <td>YARDDIR_OWN</td>\n",
       "    </tr>\n",
       "    <tr>\n",
       "      <th>28</th>\n",
       "      <td>0.006335</td>\n",
       "      <td>PLAY_QB KNEEL</td>\n",
       "    </tr>\n",
       "    <tr>\n",
       "      <th>36</th>\n",
       "      <td>0.006115</td>\n",
       "      <td>PASS_SHORT MIDDLE</td>\n",
       "    </tr>\n",
       "    <tr>\n",
       "      <th>44</th>\n",
       "      <td>0.002998</td>\n",
       "      <td>RUSHDIR_RIGHT GUARD</td>\n",
       "    </tr>\n",
       "    <tr>\n",
       "      <th>45</th>\n",
       "      <td>0.002985</td>\n",
       "      <td>RUSHDIR_RIGHT TACKLE</td>\n",
       "    </tr>\n",
       "    <tr>\n",
       "      <th>40</th>\n",
       "      <td>0.002961</td>\n",
       "      <td>RUSHDIR_LEFT GUARD</td>\n",
       "    </tr>\n",
       "    <tr>\n",
       "      <th>41</th>\n",
       "      <td>0.002829</td>\n",
       "      <td>RUSHDIR_LEFT TACKLE</td>\n",
       "    </tr>\n",
       "    <tr>\n",
       "      <th>39</th>\n",
       "      <td>0.002743</td>\n",
       "      <td>RUSHDIR_LEFT END</td>\n",
       "    </tr>\n",
       "    <tr>\n",
       "      <th>43</th>\n",
       "      <td>0.002548</td>\n",
       "      <td>RUSHDIR_RIGHT END</td>\n",
       "    </tr>\n",
       "    <tr>\n",
       "      <th>32</th>\n",
       "      <td>0.002272</td>\n",
       "      <td>PASS_DEEP MIDDLE</td>\n",
       "    </tr>\n",
       "    <tr>\n",
       "      <th>17</th>\n",
       "      <td>0.002128</td>\n",
       "      <td>FORM_NO HUDDLE</td>\n",
       "    </tr>\n",
       "    <tr>\n",
       "      <th>25</th>\n",
       "      <td>0.001321</td>\n",
       "      <td>PLAY_FUMBLES</td>\n",
       "    </tr>\n",
       "    <tr>\n",
       "      <th>23</th>\n",
       "      <td>0.000832</td>\n",
       "      <td>PLAY_EXCEPTION</td>\n",
       "    </tr>\n",
       "    <tr>\n",
       "      <th>22</th>\n",
       "      <td>0.000497</td>\n",
       "      <td>PLAY_DIRECT SNAP</td>\n",
       "    </tr>\n",
       "    <tr>\n",
       "      <th>38</th>\n",
       "      <td>0.000341</td>\n",
       "      <td>PASS_UNKNOWN</td>\n",
       "    </tr>\n",
       "  </tbody>\n",
       "</table>\n",
       "</div>"
      ],
      "text/plain": [
       "    avg_importance                 feature\n",
       "15        0.072847         Enc_DefenseTeam\n",
       "3         0.072601                  Second\n",
       "14        0.070059         Enc_OffenseTeam\n",
       "2         0.062300                  Minute\n",
       "8         0.058346                YardLine\n",
       "5         0.056117                    Down\n",
       "10        0.054539           YardLineFixed\n",
       "13        0.050818                  IsRush\n",
       "0         0.039014               GameMonth\n",
       "6         0.038435                    ToGo\n",
       "30        0.038307               PLAY_SACK\n",
       "4         0.037612            BinnedSecond\n",
       "1         0.035931                 Quarter\n",
       "11        0.029407     BinnedYardLineFixed\n",
       "27        0.024224               PLAY_PUNT\n",
       "19        0.022769               FORM_PUNT\n",
       "42        0.022054  RUSHDIR_NOT APPLICABLE\n",
       "9         0.020961          BinnedYardLine\n",
       "29        0.019954               PLAY_RUSH\n",
       "20        0.018783            FORM_SHOTGUN\n",
       "34        0.016627     PASS_NOT APPLICABLE\n",
       "26        0.016228               PLAY_PASS\n",
       "12        0.012710                  IsPass\n",
       "7         0.010775              BinnedToGo\n",
       "21        0.010768       FORM_UNDER CENTER\n",
       "31        0.007940           PLAY_SCRAMBLE\n",
       "24        0.007900         PLAY_FIELD GOAL\n",
       "37        0.007687        PASS_SHORT RIGHT\n",
       "18        0.007229  FORM_NO HUDDLE SHOTGUN\n",
       "35        0.007011         PASS_SHORT LEFT\n",
       "33        0.006682         PASS_DEEP RIGHT\n",
       "16        0.006463             YARDDIR_OWN\n",
       "28        0.006335           PLAY_QB KNEEL\n",
       "36        0.006115       PASS_SHORT MIDDLE\n",
       "44        0.002998     RUSHDIR_RIGHT GUARD\n",
       "45        0.002985    RUSHDIR_RIGHT TACKLE\n",
       "40        0.002961      RUSHDIR_LEFT GUARD\n",
       "41        0.002829     RUSHDIR_LEFT TACKLE\n",
       "39        0.002743        RUSHDIR_LEFT END\n",
       "43        0.002548       RUSHDIR_RIGHT END\n",
       "32        0.002272        PASS_DEEP MIDDLE\n",
       "17        0.002128          FORM_NO HUDDLE\n",
       "25        0.001321            PLAY_FUMBLES\n",
       "23        0.000832          PLAY_EXCEPTION\n",
       "22        0.000497        PLAY_DIRECT SNAP\n",
       "38        0.000341            PASS_UNKNOWN"
      ]
     },
     "execution_count": 28,
     "metadata": {},
     "output_type": "execute_result"
    }
   ],
   "source": [
    "labs = plays['SignYards']\n",
    "stat, feat_imps = KFoldClassification(feats, labs, RandomForestClassifier())\n",
    "print(stat)\n",
    "feat_imps"
   ]
  },
  {
   "cell_type": "markdown",
   "metadata": {},
   "source": [
    "From the above, we can see that most of the features do a poor job of segmenting the labels by their values. The precision value when compared to the recall shows that the classifer avoids false positives better than it can avoid false negatives (misses)."
   ]
  },
  {
   "cell_type": "markdown",
   "metadata": {},
   "source": [
    "It looks like there is room to increase the accuracy of the model. Let's try tuning some of the hyperparameters:"
   ]
  },
  {
   "cell_type": "code",
   "execution_count": 29,
   "metadata": {
    "collapsed": false
   },
   "outputs": [
    {
     "name": "stdout",
     "output_type": "stream",
     "text": [
      "   accuracy  precision    recall\n",
      "0  0.739087   0.880852  0.573744\n"
     ]
    },
    {
     "data": {
      "text/html": [
       "<div>\n",
       "<table border=\"1\" class=\"dataframe\">\n",
       "  <thead>\n",
       "    <tr style=\"text-align: right;\">\n",
       "      <th></th>\n",
       "      <th>avg_importance</th>\n",
       "      <th>feature</th>\n",
       "    </tr>\n",
       "  </thead>\n",
       "  <tbody>\n",
       "    <tr>\n",
       "      <th>5</th>\n",
       "      <td>0.160367</td>\n",
       "      <td>Down</td>\n",
       "    </tr>\n",
       "    <tr>\n",
       "      <th>13</th>\n",
       "      <td>0.120632</td>\n",
       "      <td>IsRush</td>\n",
       "    </tr>\n",
       "    <tr>\n",
       "      <th>30</th>\n",
       "      <td>0.092829</td>\n",
       "      <td>PLAY_SACK</td>\n",
       "    </tr>\n",
       "    <tr>\n",
       "      <th>29</th>\n",
       "      <td>0.082229</td>\n",
       "      <td>PLAY_RUSH</td>\n",
       "    </tr>\n",
       "    <tr>\n",
       "      <th>42</th>\n",
       "      <td>0.080441</td>\n",
       "      <td>RUSHDIR_NOT APPLICABLE</td>\n",
       "    </tr>\n",
       "    <tr>\n",
       "      <th>19</th>\n",
       "      <td>0.076244</td>\n",
       "      <td>FORM_PUNT</td>\n",
       "    </tr>\n",
       "    <tr>\n",
       "      <th>27</th>\n",
       "      <td>0.072041</td>\n",
       "      <td>PLAY_PUNT</td>\n",
       "    </tr>\n",
       "    <tr>\n",
       "      <th>26</th>\n",
       "      <td>0.058456</td>\n",
       "      <td>PLAY_PASS</td>\n",
       "    </tr>\n",
       "    <tr>\n",
       "      <th>12</th>\n",
       "      <td>0.056451</td>\n",
       "      <td>IsPass</td>\n",
       "    </tr>\n",
       "    <tr>\n",
       "      <th>24</th>\n",
       "      <td>0.043391</td>\n",
       "      <td>PLAY_FIELD GOAL</td>\n",
       "    </tr>\n",
       "  </tbody>\n",
       "</table>\n",
       "</div>"
      ],
      "text/plain": [
       "    avg_importance                 feature\n",
       "5         0.160367                    Down\n",
       "13        0.120632                  IsRush\n",
       "30        0.092829               PLAY_SACK\n",
       "29        0.082229               PLAY_RUSH\n",
       "42        0.080441  RUSHDIR_NOT APPLICABLE\n",
       "19        0.076244               FORM_PUNT\n",
       "27        0.072041               PLAY_PUNT\n",
       "26        0.058456               PLAY_PASS\n",
       "12        0.056451                  IsPass\n",
       "24        0.043391         PLAY_FIELD GOAL"
      ]
     },
     "execution_count": 29,
     "metadata": {},
     "output_type": "execute_result"
    }
   ],
   "source": [
    "labs = plays['SignYards']\n",
    "stat, feat_imps = KFoldClassification(feats, labs, RandomForestClassifier(n_estimators=100, max_depth=5), imp=True)\n",
    "print(stat)\n",
    "feat_imps[:10]"
   ]
  },
  {
   "cell_type": "code",
   "execution_count": 30,
   "metadata": {
    "collapsed": false
   },
   "outputs": [
    {
     "data": {
      "text/plain": [
       " 1    0.604718\n",
       " 0    0.322193\n",
       "-1    0.073089\n",
       "Name: SignYards, dtype: float64"
      ]
     },
     "execution_count": 30,
     "metadata": {},
     "output_type": "execute_result"
    }
   ],
   "source": [
    "labs.value_counts(normalize=True)"
   ]
  },
  {
   "cell_type": "markdown",
   "metadata": {},
   "source": [
    "Increasing the number of estimators results in a more \"fitted\" model, and thus increases the accuracy and brings precision over 80%. Limiting the maximum depth of the tree prevents overfitting by reducing the usage of poor features (and weighting better features more) bringing the precision to about 88%."
   ]
  },
  {
   "cell_type": "markdown",
   "metadata": {},
   "source": [
    "There is a decrease in accuracy and precision when we combine the loss and no gain label classes, but there is a predictable increase in recall:"
   ]
  },
  {
   "cell_type": "code",
   "execution_count": 31,
   "metadata": {
    "collapsed": false
   },
   "outputs": [
    {
     "data": {
      "text/html": [
       "<div>\n",
       "<table border=\"1\" class=\"dataframe\">\n",
       "  <thead>\n",
       "    <tr style=\"text-align: right;\">\n",
       "      <th></th>\n",
       "      <th>accuracy</th>\n",
       "      <th>precision</th>\n",
       "      <th>recall</th>\n",
       "    </tr>\n",
       "  </thead>\n",
       "  <tbody>\n",
       "    <tr>\n",
       "      <th>0</th>\n",
       "      <td>0.741208</td>\n",
       "      <td>0.848513</td>\n",
       "      <td>0.672888</td>\n",
       "    </tr>\n",
       "  </tbody>\n",
       "</table>\n",
       "</div>"
      ],
      "text/plain": [
       "   accuracy  precision    recall\n",
       "0  0.741208   0.848513  0.672888"
      ]
     },
     "execution_count": 31,
     "metadata": {},
     "output_type": "execute_result"
    }
   ],
   "source": [
    "labs = plays['SignYards'].map(lambda x: 0 if x == -1 else x) #Treat losses and no yardage as the same\n",
    "stat, feat_imps = KFoldClassification(feats, labs, RandomForestClassifier(n_estimators=100, max_depth=6))\n",
    "stat"
   ]
  },
  {
   "cell_type": "code",
   "execution_count": 32,
   "metadata": {
    "collapsed": false
   },
   "outputs": [
    {
     "data": {
      "text/plain": [
       "1    0.604718\n",
       "0    0.395282\n",
       "Name: SignYards, dtype: float64"
      ]
     },
     "execution_count": 32,
     "metadata": {},
     "output_type": "execute_result"
    }
   ],
   "source": [
    "labs.value_counts(normalize=True)"
   ]
  },
  {
   "cell_type": "markdown",
   "metadata": {},
   "source": [
    "We should note that along with the increase in recall, this model now answers a different question - instead of predicting the outcome loss, no gain, or gain the model now predicts the more general (and arguably more interesting) case of whether or not the play is \"good\". In other words, does the play advance (good) or not (bad)."
   ]
  },
  {
   "cell_type": "markdown",
   "metadata": {},
   "source": [
    "Let's see what happens if we reduce the number of features to the top five:"
   ]
  },
  {
   "cell_type": "code",
   "execution_count": 33,
   "metadata": {
    "collapsed": false
   },
   "outputs": [
    {
     "name": "stdout",
     "output_type": "stream",
     "text": [
      "['Down', 'IsRush', 'PLAY_PUNT', 'RUSHDIR_NOT APPLICABLE', 'FORM_PUNT', 'PLAY_PASS', 'PLAY_SACK', 'IsPass', 'PLAY_RUSH', 'PASS_NOT APPLICABLE', 'PLAY_FIELD GOAL', 'PLAY_SCRAMBLE', 'PLAY_QB KNEEL', 'FORM_SHOTGUN', 'PASS_DEEP RIGHT', 'YardLine', 'FORM_UNDER CENTER', 'PASS_SHORT MIDDLE', 'PASS_SHORT LEFT', 'ToGo', 'BinnedYardLine', 'Minute', 'YardLineFixed', 'PASS_SHORT RIGHT', 'RUSHDIR_RIGHT GUARD', 'RUSHDIR_LEFT GUARD', 'BinnedYardLineFixed', 'Enc_DefenseTeam', 'Second', 'RUSHDIR_RIGHT TACKLE', 'YARDDIR_OWN', 'RUSHDIR_LEFT TACKLE', 'Enc_OffenseTeam', 'PLAY_FUMBLES', 'FORM_NO HUDDLE SHOTGUN', 'BinnedToGo', 'Quarter', 'BinnedSecond', 'PLAY_EXCEPTION', 'RUSHDIR_LEFT END', 'GameMonth', 'RUSHDIR_RIGHT END', 'FORM_NO HUDDLE', 'PLAY_DIRECT SNAP', 'PASS_DEEP MIDDLE', 'PASS_UNKNOWN']\n",
      "   accuracy  precision    recall\n",
      "0  0.689472   0.806904  0.609188\n"
     ]
    },
    {
     "data": {
      "text/html": [
       "<div>\n",
       "<table border=\"1\" class=\"dataframe\">\n",
       "  <thead>\n",
       "    <tr style=\"text-align: right;\">\n",
       "      <th></th>\n",
       "      <th>avg_importance</th>\n",
       "      <th>feature</th>\n",
       "    </tr>\n",
       "  </thead>\n",
       "  <tbody>\n",
       "    <tr>\n",
       "      <th>0</th>\n",
       "      <td>0.382591</td>\n",
       "      <td>Down</td>\n",
       "    </tr>\n",
       "    <tr>\n",
       "      <th>1</th>\n",
       "      <td>0.296884</td>\n",
       "      <td>IsRush</td>\n",
       "    </tr>\n",
       "    <tr>\n",
       "      <th>2</th>\n",
       "      <td>0.147239</td>\n",
       "      <td>PLAY_PUNT</td>\n",
       "    </tr>\n",
       "    <tr>\n",
       "      <th>3</th>\n",
       "      <td>0.092871</td>\n",
       "      <td>RUSHDIR_NOT APPLICABLE</td>\n",
       "    </tr>\n",
       "    <tr>\n",
       "      <th>4</th>\n",
       "      <td>0.080416</td>\n",
       "      <td>FORM_PUNT</td>\n",
       "    </tr>\n",
       "  </tbody>\n",
       "</table>\n",
       "</div>"
      ],
      "text/plain": [
       "   avg_importance                 feature\n",
       "0        0.382591                    Down\n",
       "1        0.296884                  IsRush\n",
       "2        0.147239               PLAY_PUNT\n",
       "3        0.092871  RUSHDIR_NOT APPLICABLE\n",
       "4        0.080416               FORM_PUNT"
      ]
     },
     "execution_count": 33,
     "metadata": {},
     "output_type": "execute_result"
    }
   ],
   "source": [
    "imp_feat_list = list(feat_imps['feature'])\n",
    "print(imp_feat_list)\n",
    "labs = plays['SignYards'].map(lambda x: 0 if x == -1 else x) #Treat losses and no yardage as the same\n",
    "stat, il = KFoldClassification(feats[imp_feat_list[:5]], labs, RandomForestClassifier(n_estimators=100, max_depth=6))\n",
    "print(stat)\n",
    "il"
   ]
  },
  {
   "cell_type": "markdown",
   "metadata": {},
   "source": [
    "Not much of a decrease in performance. Now let's see what happens to accuracy, precision, and recall as we add less important features:"
   ]
  },
  {
   "cell_type": "code",
   "execution_count": 35,
   "metadata": {
    "collapsed": false
   },
   "outputs": [
    {
     "name": "stdout",
     "output_type": "stream",
     "text": [
      "1\n",
      "2\n",
      "3\n",
      "4\n",
      "5\n",
      "6\n",
      "7\n",
      "8\n",
      "9\n",
      "10\n",
      "20\n",
      "30\n",
      "40\n"
     ]
    }
   ],
   "source": [
    "importance_stats = []\n",
    "for i in [1, 2, 3, 4, 5, 6, 7, 8, 9, 10, 20, 30, 40]:\n",
    "    stat, garbage = KFoldClassification(feats[imp_feat_list[:i]], labs, RandomForestClassifier(n_estimators=100), imp=False)\n",
    "    importance_stats.append({'features': i, 'accuracy':stat['accuracy'],'precision':stat['precision'],'recall':stat['recall']})\n",
    "    print(i)\n",
    "all_stats = pd.DataFrame(importance_stats)"
   ]
  },
  {
   "cell_type": "code",
   "execution_count": 36,
   "metadata": {
    "collapsed": false
   },
   "outputs": [
    {
     "data": {
      "image/png": "[encoded data removed]",
      "text/plain": [
       "<matplotlib.figure.Figure at 0x1871965cd68>"
      ]
     },
     "metadata": {},
     "output_type": "display_data"
    }
   ],
   "source": [
    "plt.plot(all_stats['features'], all_stats['accuracy'], color='green', label='accuracy')\n",
    "plt.plot(all_stats['features'], all_stats['precision'], color='blue', label='precision')\n",
    "plt.plot(all_stats['features'], all_stats['recall'], color='red', label='recall')\n",
    "plt.xlabel('Number features')\n",
    "plt.ylabel('Score')\n",
    "plt.title('Performance Metrics vs Number Importance-Sorted Featuress')\n",
    "plt.legend()\n",
    "# plt.show()\n",
    "plt.savefig('figures/YardClassifierPerformanceVsFeatures.png')"
   ]
  },
  {
   "cell_type": "markdown",
   "metadata": {},
   "source": [
    "### Adaboosted Binary Yardage Classifier"
   ]
  },
  {
   "cell_type": "markdown",
   "metadata": {},
   "source": [
    "AdaBoosting with a base DecisionTree estimator does not seem to improve performance:"
   ]
  },
  {
   "cell_type": "code",
   "execution_count": 38,
   "metadata": {
    "collapsed": false
   },
   "outputs": [
    {
     "name": "stdout",
     "output_type": "stream",
     "text": [
      "   accuracy  precision    recall\n",
      "0  0.748287   0.816245  0.687624\n"
     ]
    },
    {
     "data": {
      "text/html": [
       "<div>\n",
       "<table border=\"1\" class=\"dataframe\">\n",
       "  <thead>\n",
       "    <tr style=\"text-align: right;\">\n",
       "      <th></th>\n",
       "      <th>avg_importance</th>\n",
       "      <th>feature</th>\n",
       "    </tr>\n",
       "  </thead>\n",
       "  <tbody>\n",
       "    <tr>\n",
       "      <th>1</th>\n",
       "      <td>0.079907</td>\n",
       "      <td>IsRush</td>\n",
       "    </tr>\n",
       "    <tr>\n",
       "      <th>12</th>\n",
       "      <td>0.049827</td>\n",
       "      <td>PLAY_QB KNEEL</td>\n",
       "    </tr>\n",
       "    <tr>\n",
       "      <th>9</th>\n",
       "      <td>0.042601</td>\n",
       "      <td>PASS_NOT APPLICABLE</td>\n",
       "    </tr>\n",
       "    <tr>\n",
       "      <th>5</th>\n",
       "      <td>0.018531</td>\n",
       "      <td>PLAY_PASS</td>\n",
       "    </tr>\n",
       "    <tr>\n",
       "      <th>7</th>\n",
       "      <td>0.015077</td>\n",
       "      <td>IsPass</td>\n",
       "    </tr>\n",
       "    <tr>\n",
       "      <th>14</th>\n",
       "      <td>0.013374</td>\n",
       "      <td>PASS_DEEP RIGHT</td>\n",
       "    </tr>\n",
       "    <tr>\n",
       "      <th>3</th>\n",
       "      <td>0.008228</td>\n",
       "      <td>RUSHDIR_NOT APPLICABLE</td>\n",
       "    </tr>\n",
       "    <tr>\n",
       "      <th>13</th>\n",
       "      <td>0.005519</td>\n",
       "      <td>FORM_SHOTGUN</td>\n",
       "    </tr>\n",
       "    <tr>\n",
       "      <th>8</th>\n",
       "      <td>0.002188</td>\n",
       "      <td>PLAY_RUSH</td>\n",
       "    </tr>\n",
       "    <tr>\n",
       "      <th>4</th>\n",
       "      <td>0.000000</td>\n",
       "      <td>FORM_PUNT</td>\n",
       "    </tr>\n",
       "  </tbody>\n",
       "</table>\n",
       "</div>"
      ],
      "text/plain": [
       "    avg_importance                 feature\n",
       "1         0.079907                  IsRush\n",
       "12        0.049827           PLAY_QB KNEEL\n",
       "9         0.042601     PASS_NOT APPLICABLE\n",
       "5         0.018531               PLAY_PASS\n",
       "7         0.015077                  IsPass\n",
       "14        0.013374         PASS_DEEP RIGHT\n",
       "3         0.008228  RUSHDIR_NOT APPLICABLE\n",
       "13        0.005519            FORM_SHOTGUN\n",
       "8         0.002188               PLAY_RUSH\n",
       "4         0.000000               FORM_PUNT"
      ]
     },
     "execution_count": 38,
     "metadata": {},
     "output_type": "execute_result"
    }
   ],
   "source": [
    "best_features = imp_feat_list[:15]\n",
    "labs = plays['SignYards'].map(lambda x: 0 if x == -1 else x) #Treat losses and no yardage as the same\n",
    "ada = AdaBoostClassifier(base_estimator=DecisionTreeClassifier(max_depth=6),\n",
    "                         algorithm=\"SAMME\", n_estimators=80, learning_rate=1.0)\n",
    "stat, imps = KFoldClassification(feats[best_features], labs, ada)\n",
    "print(stat)\n",
    "imps[5:]"
   ]
  },
  {
   "cell_type": "markdown",
   "metadata": {},
   "source": [
    "### Binary Pass Completion Classifier"
   ]
  },
  {
   "cell_type": "markdown",
   "metadata": {},
   "source": [
    "Now let's look at factors that can help predict a completed pass. First we need to remove the rows that are not pass plays and columns (features) that are irrlevant or will cause the model to cheat:"
   ]
  },
  {
   "cell_type": "code",
   "execution_count": 39,
   "metadata": {
    "collapsed": false
   },
   "outputs": [],
   "source": [
    "feats_pass = plays[plays['IsPass']==1][['GameMonth', 'Quarter', 'Minute', 'Second', 'BinnedSecond',\n",
    "               'Down', 'ToGo', 'BinnedToGo', 'YardLine', 'BinnedYardLine',\n",
    "               'YardLineFixed', 'BinnedYardLineFixed',\n",
    "               'Enc_OffenseTeam', 'Enc_DefenseTeam',\n",
    "               'YARDDIR_OWN',\n",
    "               'FORM_NO HUDDLE', 'FORM_NO HUDDLE SHOTGUN', 'FORM_PUNT',\n",
    "               'FORM_SHOTGUN', 'FORM_UNDER CENTER',\n",
    "               'PASS_DEEP MIDDLE', 'PASS_DEEP RIGHT', 'PASS_NOT APPLICABLE',\n",
    "               'PASS_SHORT LEFT', 'PASS_SHORT MIDDLE', 'PASS_SHORT RIGHT', 'PASS_UNKNOWN',\n",
    "              ]]\n",
    "labs_pass = plays[plays['IsPass']==1]['IsCompleted']"
   ]
  },
  {
   "cell_type": "markdown",
   "metadata": {},
   "source": [
    "Let's build a RandomForestClassifer based model:"
   ]
  },
  {
   "cell_type": "code",
   "execution_count": 40,
   "metadata": {
    "collapsed": false
   },
   "outputs": [
    {
     "name": "stdout",
     "output_type": "stream",
     "text": [
      "   accuracy  precision    recall\n",
      "0  0.660934    0.62157  0.533871\n"
     ]
    },
    {
     "data": {
      "text/html": [
       "<div>\n",
       "<table border=\"1\" class=\"dataframe\">\n",
       "  <thead>\n",
       "    <tr style=\"text-align: right;\">\n",
       "      <th></th>\n",
       "      <th>avg_importance</th>\n",
       "      <th>feature</th>\n",
       "    </tr>\n",
       "  </thead>\n",
       "  <tbody>\n",
       "    <tr>\n",
       "      <th>21</th>\n",
       "      <td>0.170194</td>\n",
       "      <td>PASS_DEEP RIGHT</td>\n",
       "    </tr>\n",
       "    <tr>\n",
       "      <th>8</th>\n",
       "      <td>0.084629</td>\n",
       "      <td>YardLine</td>\n",
       "    </tr>\n",
       "    <tr>\n",
       "      <th>3</th>\n",
       "      <td>0.061311</td>\n",
       "      <td>Second</td>\n",
       "    </tr>\n",
       "    <tr>\n",
       "      <th>13</th>\n",
       "      <td>0.059339</td>\n",
       "      <td>Enc_DefenseTeam</td>\n",
       "    </tr>\n",
       "    <tr>\n",
       "      <th>12</th>\n",
       "      <td>0.058896</td>\n",
       "      <td>Enc_OffenseTeam</td>\n",
       "    </tr>\n",
       "  </tbody>\n",
       "</table>\n",
       "</div>"
      ],
      "text/plain": [
       "    avg_importance          feature\n",
       "21        0.170194  PASS_DEEP RIGHT\n",
       "8         0.084629         YardLine\n",
       "3         0.061311           Second\n",
       "13        0.059339  Enc_DefenseTeam\n",
       "12        0.058896  Enc_OffenseTeam"
      ]
     },
     "execution_count": 40,
     "metadata": {},
     "output_type": "execute_result"
    }
   ],
   "source": [
    "stat, feat_imps = KFoldClassification(feats_pass, labs_pass, RandomForestClassifier(n_estimators=200, max_depth=7), imp=True)\n",
    "print(stat)\n",
    "feat_imps[:5]"
   ]
  },
  {
   "cell_type": "markdown",
   "metadata": {},
   "source": [
    "Unfortunately it looks like no amount of parameter tuning is able to get any of the metrics beyond the mid 60%. Let's try something else:"
   ]
  },
  {
   "cell_type": "markdown",
   "metadata": {},
   "source": [
    "### Support vector machine (SVM) completion prediction"
   ]
  },
  {
   "cell_type": "markdown",
   "metadata": {},
   "source": [
    "The support vector machine is one of the most powerful models in statistical machine learning. The main trouble behind it is that its hyper parameters are more difficult to tune to produce a useful model."
   ]
  },
  {
   "cell_type": "markdown",
   "metadata": {},
   "source": [
    "Here we are doing an exhaustive grid search to find the optimal values of the C and gamma hyperparameters with a rbf kernel support vector machine. Note that we are using the F1 (harmonic mean of precision and recall) as the value to optimize for. Note that the optimal values are saved in the notebook so that this code never needs to be run again:"
   ]
  },
  {
   "cell_type": "code",
   "execution_count": 10,
   "metadata": {
    "collapsed": false
   },
   "outputs": [
    {
     "name": "stdout",
     "output_type": "stream",
     "text": [
      "SVC(C=0.001, cache_size=200, class_weight=None, coef0=0.0,\n",
      "  decision_function_shape=None, degree=3, gamma=0.001, kernel='rbf',\n",
      "  max_iter=-1, probability=False, random_state=None, shrinking=True,\n",
      "  tol=0.001, verbose=False)\n",
      "0.788346186545\n",
      "{'C': 0.001, 'gamma': 0.001}\n"
     ]
    }
   ],
   "source": [
    "parameters = {\n",
    "    'C':            np.logspace(-3, 3, 7),\n",
    "    'gamma':        np.logspace(-3, 3, 7)\n",
    "    }\n",
    "\n",
    "model = GridSearchCV(svm.SVC(), parameters, scoring=make_scorer(f1_score), cv=3, n_jobs=4)\n",
    "model.fit(feats_pass, labs_pass)\n",
    "print(model.best_estimator_)\n",
    "print(model.best_score_)\n",
    "print(model.best_params_)"
   ]
  },
  {
   "cell_type": "markdown",
   "metadata": {},
   "source": [
    "model.best_estimator_: SVC(C=0.001, cache_size=200, class_weight=None, coef0=0.0,\n",
    "  decision_function_shape=None, degree=3, gamma=0.001, kernel='rbf',\n",
    "  max_iter=-1, probability=False, random_state=None, shrinking=True,\n",
    "  tol=0.001, verbose=False)\n",
    "  \n",
    "model.best_score_: 0.788346186545\n",
    "\n",
    "model.best_params_: {'C': 0.001, 'gamma': 0.001}"
   ]
  },
  {
   "cell_type": "markdown",
   "metadata": {},
   "source": [
    "The grid search yields parameters for C and gamma that give us an F1 score of 78.8%!"
   ]
  },
  {
   "cell_type": "code",
   "execution_count": null,
   "metadata": {
    "collapsed": true
   },
   "outputs": [],
   "source": []
  }
 ],
 "metadata": {
  "anaconda-cloud": {},
  "kernelspec": {
   "display_name": "Python [Root]",
   "language": "python",
   "name": "Python [Root]"
  },
  "language_info": {
   "codemirror_mode": {
    "name": "ipython",
    "version": 3
   },
   "file_extension": ".py",
   "mimetype": "text/x-python",
   "name": "python",
   "nbconvert_exporter": "python",
   "pygments_lexer": "ipython3",
   "version": "3.5.2"
  }
 },
 "nbformat": 4,
 "nbformat_minor": 1
}
