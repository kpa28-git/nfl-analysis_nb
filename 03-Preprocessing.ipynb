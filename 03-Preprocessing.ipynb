{
 "cells": [
  {
   "cell_type": "markdown",
   "metadata": {},
   "source": [
    "# Preprocessing"
   ]
  },
  {
   "cell_type": "code",
   "execution_count": 1,
   "metadata": {
    "collapsed": false
   },
   "outputs": [],
   "source": [
    "import pandas as pd\n",
    "import numpy as np"
   ]
  },
  {
   "cell_type": "code",
   "execution_count": 2,
   "metadata": {
    "collapsed": true
   },
   "outputs": [],
   "source": [
    "work_dir = './data/kpatel28/'\n",
    "using_year = '2016'\n",
    "data_url = 'http://nflsavant.com/pbp_data.php?year='"
   ]
  },
  {
   "cell_type": "markdown",
   "metadata": {},
   "source": [
    "* deal with missing values\n",
    "    * Split the raw data into multiple tables\n",
    "    * Explicitly fill irrelvant cases\n",
    "    * Inpute data where possible\n",
    "* Class consolidation for certain infrequent classes where appropriate\n",
    "* assert statements to check dtype integrity and for missing values"
   ]
  },
  {
   "cell_type": "code",
   "execution_count": 3,
   "metadata": {
    "collapsed": false
   },
   "outputs": [
    {
     "data": {
      "text/html": [
       "<div>\n",
       "<table border=\"1\" class=\"dataframe\">\n",
       "  <thead>\n",
       "    <tr style=\"text-align: right;\">\n",
       "      <th></th>\n",
       "      <th>GameId</th>\n",
       "      <th>GameDate</th>\n",
       "      <th>Quarter</th>\n",
       "      <th>Minute</th>\n",
       "      <th>Second</th>\n",
       "      <th>OffenseTeam</th>\n",
       "      <th>DefenseTeam</th>\n",
       "      <th>Down</th>\n",
       "      <th>ToGo</th>\n",
       "      <th>YardLine</th>\n",
       "      <th>...</th>\n",
       "      <th>IsTwoPointConversion</th>\n",
       "      <th>IsTwoPointConversionSuccessful</th>\n",
       "      <th>RushDirection</th>\n",
       "      <th>YardLineFixed</th>\n",
       "      <th>YardLineDirection</th>\n",
       "      <th>IsPenaltyAccepted</th>\n",
       "      <th>PenaltyTeam</th>\n",
       "      <th>IsNoPlay</th>\n",
       "      <th>PenaltyType</th>\n",
       "      <th>PenaltyYards</th>\n",
       "    </tr>\n",
       "  </thead>\n",
       "  <tbody>\n",
       "    <tr>\n",
       "      <th>0</th>\n",
       "      <td>2016090800</td>\n",
       "      <td>2016-09-08</td>\n",
       "      <td>1</td>\n",
       "      <td>0</td>\n",
       "      <td>0</td>\n",
       "      <td>NaN</td>\n",
       "      <td>CAR</td>\n",
       "      <td>0</td>\n",
       "      <td>0</td>\n",
       "      <td>0</td>\n",
       "      <td>...</td>\n",
       "      <td>0</td>\n",
       "      <td>0</td>\n",
       "      <td>NaN</td>\n",
       "      <td>0</td>\n",
       "      <td>OWN</td>\n",
       "      <td>0</td>\n",
       "      <td>NaN</td>\n",
       "      <td>0</td>\n",
       "      <td>NaN</td>\n",
       "      <td>0</td>\n",
       "    </tr>\n",
       "    <tr>\n",
       "      <th>1</th>\n",
       "      <td>2016090800</td>\n",
       "      <td>2016-09-08</td>\n",
       "      <td>4</td>\n",
       "      <td>2</td>\n",
       "      <td>0</td>\n",
       "      <td>NaN</td>\n",
       "      <td>CAR</td>\n",
       "      <td>0</td>\n",
       "      <td>0</td>\n",
       "      <td>0</td>\n",
       "      <td>...</td>\n",
       "      <td>0</td>\n",
       "      <td>0</td>\n",
       "      <td>NaN</td>\n",
       "      <td>0</td>\n",
       "      <td>OWN</td>\n",
       "      <td>0</td>\n",
       "      <td>NaN</td>\n",
       "      <td>0</td>\n",
       "      <td>NaN</td>\n",
       "      <td>0</td>\n",
       "    </tr>\n",
       "    <tr>\n",
       "      <th>2</th>\n",
       "      <td>2016091100</td>\n",
       "      <td>2016-09-11</td>\n",
       "      <td>4</td>\n",
       "      <td>6</td>\n",
       "      <td>18</td>\n",
       "      <td>NaN</td>\n",
       "      <td>TB</td>\n",
       "      <td>0</td>\n",
       "      <td>0</td>\n",
       "      <td>0</td>\n",
       "      <td>...</td>\n",
       "      <td>0</td>\n",
       "      <td>0</td>\n",
       "      <td>NaN</td>\n",
       "      <td>0</td>\n",
       "      <td>OWN</td>\n",
       "      <td>0</td>\n",
       "      <td>NaN</td>\n",
       "      <td>0</td>\n",
       "      <td>NaN</td>\n",
       "      <td>0</td>\n",
       "    </tr>\n",
       "    <tr>\n",
       "      <th>3</th>\n",
       "      <td>2016091100</td>\n",
       "      <td>2016-09-11</td>\n",
       "      <td>4</td>\n",
       "      <td>0</td>\n",
       "      <td>0</td>\n",
       "      <td>NaN</td>\n",
       "      <td>TB</td>\n",
       "      <td>0</td>\n",
       "      <td>0</td>\n",
       "      <td>0</td>\n",
       "      <td>...</td>\n",
       "      <td>0</td>\n",
       "      <td>0</td>\n",
       "      <td>NaN</td>\n",
       "      <td>0</td>\n",
       "      <td>OWN</td>\n",
       "      <td>0</td>\n",
       "      <td>NaN</td>\n",
       "      <td>0</td>\n",
       "      <td>NaN</td>\n",
       "      <td>0</td>\n",
       "    </tr>\n",
       "    <tr>\n",
       "      <th>4</th>\n",
       "      <td>2016091101</td>\n",
       "      <td>2016-09-11</td>\n",
       "      <td>2</td>\n",
       "      <td>0</td>\n",
       "      <td>0</td>\n",
       "      <td>NaN</td>\n",
       "      <td>BUF</td>\n",
       "      <td>0</td>\n",
       "      <td>0</td>\n",
       "      <td>0</td>\n",
       "      <td>...</td>\n",
       "      <td>0</td>\n",
       "      <td>0</td>\n",
       "      <td>NaN</td>\n",
       "      <td>0</td>\n",
       "      <td>OWN</td>\n",
       "      <td>0</td>\n",
       "      <td>NaN</td>\n",
       "      <td>0</td>\n",
       "      <td>NaN</td>\n",
       "      <td>0</td>\n",
       "    </tr>\n",
       "  </tbody>\n",
       "</table>\n",
       "<p>5 rows × 45 columns</p>\n",
       "</div>"
      ],
      "text/plain": [
       "       GameId    GameDate  Quarter  Minute  Second OffenseTeam DefenseTeam  \\\n",
       "0  2016090800  2016-09-08        1       0       0         NaN         CAR   \n",
       "1  2016090800  2016-09-08        4       2       0         NaN         CAR   \n",
       "2  2016091100  2016-09-11        4       6      18         NaN          TB   \n",
       "3  2016091100  2016-09-11        4       0       0         NaN          TB   \n",
       "4  2016091101  2016-09-11        2       0       0         NaN         BUF   \n",
       "\n",
       "   Down  ToGo  YardLine      ...       IsTwoPointConversion  \\\n",
       "0     0     0         0      ...                          0   \n",
       "1     0     0         0      ...                          0   \n",
       "2     0     0         0      ...                          0   \n",
       "3     0     0         0      ...                          0   \n",
       "4     0     0         0      ...                          0   \n",
       "\n",
       "   IsTwoPointConversionSuccessful  RushDirection  YardLineFixed  \\\n",
       "0                               0            NaN              0   \n",
       "1                               0            NaN              0   \n",
       "2                               0            NaN              0   \n",
       "3                               0            NaN              0   \n",
       "4                               0            NaN              0   \n",
       "\n",
       "  YardLineDirection  IsPenaltyAccepted  PenaltyTeam  IsNoPlay  PenaltyType  \\\n",
       "0               OWN                  0          NaN         0          NaN   \n",
       "1               OWN                  0          NaN         0          NaN   \n",
       "2               OWN                  0          NaN         0          NaN   \n",
       "3               OWN                  0          NaN         0          NaN   \n",
       "4               OWN                  0          NaN         0          NaN   \n",
       "\n",
       "   PenaltyYards  \n",
       "0             0  \n",
       "1             0  \n",
       "2             0  \n",
       "3             0  \n",
       "4             0  \n",
       "\n",
       "[5 rows x 45 columns]"
      ]
     },
     "execution_count": 3,
     "metadata": {},
     "output_type": "execute_result"
    }
   ],
   "source": [
    "file_path = work_dir + using_year + '-nfl-all.csv'\n",
    "raw = pd.read_csv(file_path, sep=',')\n",
    "raw.head()"
   ]
  },
  {
   "cell_type": "markdown",
   "metadata": {},
   "source": [
    "## Dealing with missing data"
   ]
  },
  {
   "cell_type": "markdown",
   "metadata": {},
   "source": [
    "Here we drop all empty columns in the raw dataframe, define a function that will remove columns that contain unchanging (useless) columns, and then run the function on the raw data:"
   ]
  },
  {
   "cell_type": "code",
   "execution_count": 4,
   "metadata": {
    "collapsed": true
   },
   "outputs": [],
   "source": [
    "raw.dropna(axis=1, how='all', inplace=True) #Drop fully empty columns\n",
    "def dropUnchanging(df): #Drops columns with values that never change\n",
    "    to_drop = []\n",
    "    for col in df:\n",
    "        #print(col, ':', len(df[col].unique()))\n",
    "        if (len(df[col].unique()) == 1):\n",
    "            to_drop.append(col)\n",
    "    print('\\n' +str(len(to_drop)), 'columns with unchanging data will be dropped:', ', '.join(to_drop))\n",
    "    return df.drop(to_drop, axis=1) #remove columns with unchanging values"
   ]
  },
  {
   "cell_type": "code",
   "execution_count": 5,
   "metadata": {
    "collapsed": false
   },
   "outputs": [
    {
     "name": "stdout",
     "output_type": "stream",
     "text": [
      "\n",
      "4 columns with unchanging data will be dropped: NextScore, TeamWin, SeasonYear, IsMeasurement\n"
     ]
    }
   ],
   "source": [
    "raw = dropUnchanging(raw)"
   ]
  },
  {
   "cell_type": "markdown",
   "metadata": {},
   "source": [
    "Now we'll check if there any columns with missing data. Indeed there are:"
   ]
  },
  {
   "cell_type": "code",
   "execution_count": 6,
   "metadata": {
    "collapsed": false
   },
   "outputs": [
    {
     "name": "stdout",
     "output_type": "stream",
     "text": [
      "columns with missing data:\n"
     ]
    },
    {
     "data": {
      "text/plain": [
       "OffenseTeam       3376\n",
       "Description          1\n",
       "Formation          778\n",
       "PlayType          1609\n",
       "PassType         26632\n",
       "RushDirection    33524\n",
       "PenaltyTeam      42058\n",
       "PenaltyType      42057\n",
       "dtype: int64"
      ]
     },
     "execution_count": 6,
     "metadata": {},
     "output_type": "execute_result"
    }
   ],
   "source": [
    "print('columns with missing data:')\n",
    "missing = len(raw) - raw.count()\n",
    "missing[missing > 0]"
   ]
  },
  {
   "cell_type": "code",
   "execution_count": 7,
   "metadata": {
    "collapsed": false
   },
   "outputs": [],
   "source": [
    "assert(len(missing[missing > 0]) > 0)"
   ]
  },
  {
   "cell_type": "markdown",
   "metadata": {},
   "source": [
    "### Penalties Table"
   ]
  },
  {
   "cell_type": "markdown",
   "metadata": {},
   "source": [
    "PenaltyTeam and PenaltyType actually have little to no missing values. Both of these columns simply have empty data because very few of the rows record penalty events. A missing value in these columns means there wasn't a penalty. As we can see in the groupby, PenaltyTeam and PenaltyType have negligible missing values when they are relevant fields:"
   ]
  },
  {
   "cell_type": "code",
   "execution_count": 8,
   "metadata": {
    "collapsed": false
   },
   "outputs": [
    {
     "data": {
      "text/html": [
       "<div>\n",
       "<table border=\"1\" class=\"dataframe\">\n",
       "  <thead>\n",
       "    <tr style=\"text-align: right;\">\n",
       "      <th></th>\n",
       "      <th>IsPenalty</th>\n",
       "      <th>PenaltyTeam</th>\n",
       "      <th>PenaltyType</th>\n",
       "    </tr>\n",
       "    <tr>\n",
       "      <th>IsPenalty</th>\n",
       "      <th></th>\n",
       "      <th></th>\n",
       "      <th></th>\n",
       "    </tr>\n",
       "  </thead>\n",
       "  <tbody>\n",
       "    <tr>\n",
       "      <th>0</th>\n",
       "      <td>42056</td>\n",
       "      <td>0</td>\n",
       "      <td>0</td>\n",
       "    </tr>\n",
       "    <tr>\n",
       "      <th>1</th>\n",
       "      <td>3895</td>\n",
       "      <td>3893</td>\n",
       "      <td>3894</td>\n",
       "    </tr>\n",
       "  </tbody>\n",
       "</table>\n",
       "</div>"
      ],
      "text/plain": [
       "           IsPenalty  PenaltyTeam  PenaltyType\n",
       "IsPenalty                                     \n",
       "0              42056            0            0\n",
       "1               3895         3893         3894"
      ]
     },
     "execution_count": 8,
     "metadata": {},
     "output_type": "execute_result"
    }
   ],
   "source": [
    "raw.groupby('IsPenalty')['IsPenalty', 'PenaltyTeam', 'PenaltyType'].count()"
   ]
  },
  {
   "cell_type": "markdown",
   "metadata": {},
   "source": [
    "Penalty events are different enough from the rest of the data that they deserve their own dataframe:"
   ]
  },
  {
   "cell_type": "code",
   "execution_count": 9,
   "metadata": {
    "collapsed": false
   },
   "outputs": [
    {
     "name": "stdout",
     "output_type": "stream",
     "text": [
      "\n",
      "2 columns with unchanging data will be dropped: SeriesFirstDown, IsPenalty\n"
     ]
    },
    {
     "data": {
      "text/plain": [
       "PassType         2251\n",
       "RushDirection    3331\n",
       "PenaltyTeam         2\n",
       "PenaltyType         1\n",
       "dtype: int64"
      ]
     },
     "execution_count": 9,
     "metadata": {},
     "output_type": "execute_result"
    }
   ],
   "source": [
    "penalty = raw[raw['IsPenalty']==1]\n",
    "penalty = dropUnchanging(penalty)\n",
    "missing = len(penalty) - penalty.count()\n",
    "missing[missing > 0]\n",
    "#penalty.info()\n",
    "#penalty[penalty['PenaltyType'].isnull()]['Description'].iloc[0]"
   ]
  },
  {
   "cell_type": "markdown",
   "metadata": {},
   "source": [
    "We save the new table:"
   ]
  },
  {
   "cell_type": "code",
   "execution_count": 10,
   "metadata": {
    "collapsed": false
   },
   "outputs": [],
   "source": [
    "file_path = work_dir + using_year + '-nfl-penalties.csv'\n",
    "penalty.to_csv(file_path, index=False)"
   ]
  },
  {
   "cell_type": "markdown",
   "metadata": {},
   "source": [
    " We also drop all the penalty data from the original dataframe:"
   ]
  },
  {
   "cell_type": "code",
   "execution_count": 11,
   "metadata": {
    "collapsed": false
   },
   "outputs": [
    {
     "name": "stdout",
     "output_type": "stream",
     "text": [
      "\n",
      "3 columns with unchanging data will be dropped: IsPenaltyAccepted, IsNoPlay, PenaltyYards\n"
     ]
    },
    {
     "data": {
      "text/plain": [
       "OffenseTeam       3376\n",
       "Description          1\n",
       "Formation          778\n",
       "PlayType          1609\n",
       "PassType         24381\n",
       "RushDirection    30193\n",
       "dtype: int64"
      ]
     },
     "execution_count": 11,
     "metadata": {},
     "output_type": "execute_result"
    }
   ],
   "source": [
    "raw = raw.drop(raw[raw['IsPenalty']==1].index)\n",
    "raw = raw.drop(['IsPenalty', 'PenaltyTeam', 'PenaltyType'], axis=1)\n",
    "raw = dropUnchanging(raw)\n",
    "missing = len(raw) - raw.count()\n",
    "missing[missing > 0]"
   ]
  },
  {
   "cell_type": "markdown",
   "metadata": {},
   "source": [
    "### Other Events Table"
   ]
  },
  {
   "cell_type": "markdown",
   "metadata": {},
   "source": [
    "\"Zeroth Down\" doesn't make much sense. Looking at cases when Down is zero shows that this case signifies events like timeout, end of a quarter, or the end of a game:"
   ]
  },
  {
   "cell_type": "code",
   "execution_count": 12,
   "metadata": {
    "collapsed": false
   },
   "outputs": [
    {
     "data": {
      "text/html": [
       "<div>\n",
       "<table border=\"1\" class=\"dataframe\">\n",
       "  <thead>\n",
       "    <tr style=\"text-align: right;\">\n",
       "      <th></th>\n",
       "      <th>GameId</th>\n",
       "      <th>Description</th>\n",
       "      <th>PlayType</th>\n",
       "      <th>PassType</th>\n",
       "    </tr>\n",
       "  </thead>\n",
       "  <tbody>\n",
       "    <tr>\n",
       "      <th>0</th>\n",
       "      <td>2016090800</td>\n",
       "      <td>END QUARTER 1</td>\n",
       "      <td>NaN</td>\n",
       "      <td>NaN</td>\n",
       "    </tr>\n",
       "    <tr>\n",
       "      <th>1</th>\n",
       "      <td>2016090800</td>\n",
       "      <td>TWO-MINUTE WARNING</td>\n",
       "      <td>NaN</td>\n",
       "      <td>NaN</td>\n",
       "    </tr>\n",
       "    <tr>\n",
       "      <th>2</th>\n",
       "      <td>2016091100</td>\n",
       "      <td>TIMEOUT #1 BY TB AT 06:18.</td>\n",
       "      <td>TIMEOUT</td>\n",
       "      <td>NaN</td>\n",
       "    </tr>\n",
       "    <tr>\n",
       "      <th>3</th>\n",
       "      <td>2016091100</td>\n",
       "      <td>END GAME</td>\n",
       "      <td>NaN</td>\n",
       "      <td>NaN</td>\n",
       "    </tr>\n",
       "    <tr>\n",
       "      <th>4</th>\n",
       "      <td>2016091101</td>\n",
       "      <td>END QUARTER 2</td>\n",
       "      <td>NaN</td>\n",
       "      <td>NaN</td>\n",
       "    </tr>\n",
       "    <tr>\n",
       "      <th>5</th>\n",
       "      <td>2016091102</td>\n",
       "      <td>END QUARTER 1</td>\n",
       "      <td>NaN</td>\n",
       "      <td>NaN</td>\n",
       "    </tr>\n",
       "    <tr>\n",
       "      <th>6</th>\n",
       "      <td>2016091102</td>\n",
       "      <td>8-N.NOVAK EXTRA POINT IS GOOD, CENTER-46-J.WEE...</td>\n",
       "      <td>EXTRA POINT</td>\n",
       "      <td>NaN</td>\n",
       "    </tr>\n",
       "    <tr>\n",
       "      <th>7</th>\n",
       "      <td>2016091102</td>\n",
       "      <td>TIMEOUT #2 BY CHI AT 00:30.</td>\n",
       "      <td>TIMEOUT</td>\n",
       "      <td>NaN</td>\n",
       "    </tr>\n",
       "    <tr>\n",
       "      <th>9</th>\n",
       "      <td>2016091102</td>\n",
       "      <td>TIMEOUT #2 BY HOU AT 04:06.</td>\n",
       "      <td>TIMEOUT</td>\n",
       "      <td>NaN</td>\n",
       "    </tr>\n",
       "    <tr>\n",
       "      <th>10</th>\n",
       "      <td>2016091102</td>\n",
       "      <td>END GAME</td>\n",
       "      <td>NaN</td>\n",
       "      <td>NaN</td>\n",
       "    </tr>\n",
       "  </tbody>\n",
       "</table>\n",
       "</div>"
      ],
      "text/plain": [
       "        GameId                                        Description  \\\n",
       "0   2016090800                                      END QUARTER 1   \n",
       "1   2016090800                                 TWO-MINUTE WARNING   \n",
       "2   2016091100                         TIMEOUT #1 BY TB AT 06:18.   \n",
       "3   2016091100                                           END GAME   \n",
       "4   2016091101                                      END QUARTER 2   \n",
       "5   2016091102                                      END QUARTER 1   \n",
       "6   2016091102  8-N.NOVAK EXTRA POINT IS GOOD, CENTER-46-J.WEE...   \n",
       "7   2016091102                        TIMEOUT #2 BY CHI AT 00:30.   \n",
       "9   2016091102                        TIMEOUT #2 BY HOU AT 04:06.   \n",
       "10  2016091102                                           END GAME   \n",
       "\n",
       "       PlayType PassType  \n",
       "0           NaN      NaN  \n",
       "1           NaN      NaN  \n",
       "2       TIMEOUT      NaN  \n",
       "3           NaN      NaN  \n",
       "4           NaN      NaN  \n",
       "5           NaN      NaN  \n",
       "6   EXTRA POINT      NaN  \n",
       "7       TIMEOUT      NaN  \n",
       "9       TIMEOUT      NaN  \n",
       "10          NaN      NaN  "
      ]
     },
     "execution_count": 12,
     "metadata": {},
     "output_type": "execute_result"
    }
   ],
   "source": [
    "raw[raw['Down']==0][['GameId', 'Description', 'PlayType', 'PassType']].head(10)"
   ]
  },
  {
   "cell_type": "markdown",
   "metadata": {},
   "source": [
    "This is good because based on the following groupby of down, we see that OffenseTeam, Formation, and PlayType have little to no missing data where it is most important (Downs 1-4):"
   ]
  },
  {
   "cell_type": "code",
   "execution_count": 13,
   "metadata": {
    "collapsed": false
   },
   "outputs": [
    {
     "data": {
      "text/html": [
       "<div>\n",
       "<table border=\"1\" class=\"dataframe\">\n",
       "  <thead>\n",
       "    <tr style=\"text-align: right;\">\n",
       "      <th></th>\n",
       "      <th>Down</th>\n",
       "      <th>OffenseTeam</th>\n",
       "      <th>Formation</th>\n",
       "      <th>PlayType</th>\n",
       "      <th>PassType</th>\n",
       "      <th>RushDirection</th>\n",
       "    </tr>\n",
       "    <tr>\n",
       "      <th>Down</th>\n",
       "      <th></th>\n",
       "      <th></th>\n",
       "      <th></th>\n",
       "      <th></th>\n",
       "      <th></th>\n",
       "      <th></th>\n",
       "    </tr>\n",
       "  </thead>\n",
       "  <tbody>\n",
       "    <tr>\n",
       "      <th>0</th>\n",
       "      <td>7167</td>\n",
       "      <td>3791</td>\n",
       "      <td>6389</td>\n",
       "      <td>5596</td>\n",
       "      <td>0</td>\n",
       "      <td>0</td>\n",
       "    </tr>\n",
       "    <tr>\n",
       "      <th>1</th>\n",
       "      <td>14365</td>\n",
       "      <td>14365</td>\n",
       "      <td>14365</td>\n",
       "      <td>14345</td>\n",
       "      <td>6770</td>\n",
       "      <td>6672</td>\n",
       "    </tr>\n",
       "    <tr>\n",
       "      <th>2</th>\n",
       "      <td>10624</td>\n",
       "      <td>10624</td>\n",
       "      <td>10624</td>\n",
       "      <td>10609</td>\n",
       "      <td>5884</td>\n",
       "      <td>4048</td>\n",
       "    </tr>\n",
       "    <tr>\n",
       "      <th>3</th>\n",
       "      <td>6480</td>\n",
       "      <td>6480</td>\n",
       "      <td>6480</td>\n",
       "      <td>6478</td>\n",
       "      <td>4739</td>\n",
       "      <td>1009</td>\n",
       "    </tr>\n",
       "    <tr>\n",
       "      <th>4</th>\n",
       "      <td>3420</td>\n",
       "      <td>3420</td>\n",
       "      <td>3420</td>\n",
       "      <td>3419</td>\n",
       "      <td>282</td>\n",
       "      <td>134</td>\n",
       "    </tr>\n",
       "  </tbody>\n",
       "</table>\n",
       "</div>"
      ],
      "text/plain": [
       "       Down  OffenseTeam  Formation  PlayType  PassType  RushDirection\n",
       "Down                                                                  \n",
       "0      7167         3791       6389      5596         0              0\n",
       "1     14365        14365      14365     14345      6770           6672\n",
       "2     10624        10624      10624     10609      5884           4048\n",
       "3      6480         6480       6480      6478      4739           1009\n",
       "4      3420         3420       3420      3419       282            134"
      ]
     },
     "execution_count": 13,
     "metadata": {},
     "output_type": "execute_result"
    }
   ],
   "source": [
    "raw.groupby('Down')['Down', 'OffenseTeam', 'Formation', 'PlayType', 'PassType', 'RushDirection'].count()"
   ]
  },
  {
   "cell_type": "markdown",
   "metadata": {},
   "source": [
    "Now we'll segment out the \"zeroth down\" case into its own table called \"other\", save it, and then drop this data from the original (Note that kickoffs, one point conversions, and two point conversions will also be in this table):"
   ]
  },
  {
   "cell_type": "code",
   "execution_count": 14,
   "metadata": {
    "collapsed": false,
    "scrolled": true
   },
   "outputs": [
    {
     "name": "stdout",
     "output_type": "stream",
     "text": [
      "\n",
      "9 columns with unchanging data will be dropped: Down, ToGo, SeriesFirstDown, Yards, IsRush, IsIncomplete, PassType, IsSack, RushDirection\n"
     ]
    },
    {
     "data": {
      "text/plain": [
       "OffenseTeam    3376\n",
       "Description       1\n",
       "Formation       778\n",
       "PlayType       1571\n",
       "dtype: int64"
      ]
     },
     "execution_count": 14,
     "metadata": {},
     "output_type": "execute_result"
    }
   ],
   "source": [
    "other = raw[raw['Down']==0]\n",
    "other = dropUnchanging(other)\n",
    "missing = len(other) - other.count()\n",
    "missing[missing > 0]"
   ]
  },
  {
   "cell_type": "markdown",
   "metadata": {},
   "source": [
    "According to the following event Description value_counts, the PlayType and Formation variables have missing values at events where they are not relevant (ie time outs or quarter endings). We'll fill these cases with strings to make them more explicit:"
   ]
  },
  {
   "cell_type": "code",
   "execution_count": 15,
   "metadata": {
    "collapsed": false
   },
   "outputs": [
    {
     "data": {
      "text/plain": [
       "END QUARTER 3    256\n",
       "END QUARTER 2    255\n",
       "END QUARTER 1    253\n",
       "END QUARTER 4     13\n",
       "Name: Description, dtype: int64"
      ]
     },
     "execution_count": 15,
     "metadata": {},
     "output_type": "execute_result"
    }
   ],
   "source": [
    "other[other['Formation'].isnull()]['Description'].value_counts()"
   ]
  },
  {
   "cell_type": "code",
   "execution_count": 16,
   "metadata": {
    "collapsed": true
   },
   "outputs": [],
   "source": [
    "other['Formation'].fillna(value='NOT APPLICABLE', axis=0, inplace=True)"
   ]
  },
  {
   "cell_type": "code",
   "execution_count": 17,
   "metadata": {
    "collapsed": false
   },
   "outputs": [
    {
     "data": {
      "text/plain": [
       "TWO-MINUTE WARNING    491\n",
       "END QUARTER 3         256\n",
       "END QUARTER 2         255\n",
       "END QUARTER 1         253\n",
       "END GAME              252\n",
       "END QUARTER 4          13\n",
       "TIMEOUT AT 12:11.       2\n",
       "TIMEOUT AT 04:00.       2\n",
       "TIMEOUT AT 13:49.       1\n",
       "TIMEOUT AT 08:16.       1\n",
       "TIMEOUT AT 13:45.       1\n",
       "TIMEOUT AT 05:37.       1\n",
       "TIMEOUT AT 10:46.       1\n",
       "TIMEOUT AT 04:29.       1\n",
       "TIMEOUT AT 11:11.       1\n",
       "TIMEOUT AT 12:12.       1\n",
       "TIMEOUT AT 07:18.       1\n",
       "TIMEOUT AT 06:29.       1\n",
       "TIMEOUT AT 14:12.       1\n",
       "TIMEOUT AT 10:09.       1\n",
       "TIMEOUT AT 04:10.       1\n",
       "TIMEOUT AT 06:11.       1\n",
       "TIMEOUT AT 05:18.       1\n",
       "TIMEOUT AT 06:00.       1\n",
       "TIMEOUT AT 05:51.       1\n",
       "TIMEOUT AT 05:09.       1\n",
       "TIMEOUT AT 08:34.       1\n",
       "TIMEOUT AT 10:01.       1\n",
       "TIMEOUT AT 11:46.       1\n",
       "TIMEOUT AT 03:59.       1\n",
       "TIMEOUT AT 12:19.       1\n",
       "TIMEOUT AT 03:28.       1\n",
       "TIMEOUT AT 06:40.       1\n",
       "TIMEOUT AT 01:59.       1\n",
       "TIMEOUT AT 06:37.       1\n",
       "TIMEOUT AT 09:23.       1\n",
       "TIMEOUT AT 03:33.       1\n",
       "TIMEOUT AT 08:28.       1\n",
       "TIMEOUT AT 00:13.       1\n",
       "TIMEOUT AT 09:26.       1\n",
       "TIMEOUT AT 11:00.       1\n",
       "TIMEOUT AT 06:53.       1\n",
       "TIMEOUT AT 04:31.       1\n",
       "TIMEOUT AT 09:05.       1\n",
       "TIMEOUT AT 03:16.       1\n",
       "TIMEOUT AT 13:59.       1\n",
       "TIMEOUT AT 12:28.       1\n",
       "TIMEOUT AT 04:46.       1\n",
       "TIMEOUT AT 00:52.       1\n",
       "TIMEOUT AT 11:44.       1\n",
       "TIMEOUT AT 04:27.       1\n",
       "TIMEOUT AT 00:08.       1\n",
       "TIMEOUT AT 12:29.       1\n",
       "TIMEOUT AT 08:57.       1\n",
       "Name: Description, dtype: int64"
      ]
     },
     "execution_count": 17,
     "metadata": {},
     "output_type": "execute_result"
    }
   ],
   "source": [
    "other[other['PlayType'].isnull()]['Description'].value_counts()"
   ]
  },
  {
   "cell_type": "code",
   "execution_count": 18,
   "metadata": {
    "collapsed": true
   },
   "outputs": [],
   "source": [
    "other['PlayType'].fillna(value='NOT APPLICABLE', axis=0, inplace=True)"
   ]
  },
  {
   "cell_type": "code",
   "execution_count": 19,
   "metadata": {
    "collapsed": true
   },
   "outputs": [],
   "source": [
    "assert(other['Formation'].dtype == np.dtype('O'))\n",
    "assert(other['PlayType'].dtype == np.dtype('O'))"
   ]
  },
  {
   "cell_type": "markdown",
   "metadata": {},
   "source": [
    "The missing data in the OffenseTeam column is not an issue because, they don't occur where an offense/defense distinction is relevant. However, we will still keep the team name in 'Defense Team' in these cases because it indicates the relevant team in cases such as timeout:"
   ]
  },
  {
   "cell_type": "code",
   "execution_count": 20,
   "metadata": {
    "collapsed": false
   },
   "outputs": [
    {
     "data": {
      "text/plain": [
       "TIMEOUT           1772\n",
       "NOT APPLICABLE    1570\n",
       "EXCEPTION           33\n",
       "PASS                 1\n",
       "Name: PlayType, dtype: int64"
      ]
     },
     "execution_count": 20,
     "metadata": {},
     "output_type": "execute_result"
    }
   ],
   "source": [
    "other[other['OffenseTeam'].isnull()]['PlayType'].value_counts()"
   ]
  },
  {
   "cell_type": "markdown",
   "metadata": {},
   "source": [
    "Now lets fill the missing values for the 'Offense Team' column:"
   ]
  },
  {
   "cell_type": "code",
   "execution_count": 21,
   "metadata": {
    "collapsed": true
   },
   "outputs": [],
   "source": [
    "other['OffenseTeam'].fillna(value='NOT APPLICABLE', axis=0, inplace=True)"
   ]
  },
  {
   "cell_type": "code",
   "execution_count": 22,
   "metadata": {
    "collapsed": true
   },
   "outputs": [],
   "source": [
    "assert(other['OffenseTeam'].dtype == np.dtype('O'))"
   ]
  },
  {
   "cell_type": "markdown",
   "metadata": {},
   "source": [
    "The Description column won't be directly used in visualization or to produce a machine learning feature, so we can just set the single missing value to 'UNKNOWN':"
   ]
  },
  {
   "cell_type": "code",
   "execution_count": 23,
   "metadata": {
    "collapsed": false
   },
   "outputs": [],
   "source": [
    "other.loc[other['Description'].isnull(), 'Description'] = 'UNKNOWN'"
   ]
  },
  {
   "cell_type": "code",
   "execution_count": 24,
   "metadata": {
    "collapsed": true
   },
   "outputs": [],
   "source": [
    "assert(other['Description'].dtype == np.dtype('O'))"
   ]
  },
  {
   "cell_type": "code",
   "execution_count": 25,
   "metadata": {
    "collapsed": false
   },
   "outputs": [],
   "source": [
    "assert((sorted(other['IsPass'].unique()) == np.array([0, 1])).all())\n",
    "assert((sorted(other['IsTouchdown'].unique()) == np.array([0, 1])).all())\n",
    "assert((sorted(other['IsChallenge'].unique()) == np.array([0, 1])).all())\n",
    "assert((sorted(other['IsChallengeReversed'].unique()) == np.array([0, 1])).all())\n",
    "assert((sorted(other['IsInterception'].unique()) == np.array([0, 1])).all())\n",
    "assert((sorted(other['IsFumble'].unique()) == np.array([0, 1])).all())\n",
    "assert((sorted(other['IsTwoPointConversion'].unique()) == np.array([0, 1])).all())\n",
    "assert((sorted(other['IsTwoPointConversionSuccessful'].unique()) == np.array([0, 1])).all())\n",
    "missing = len(other) - other.count()\n",
    "assert(len(missing[missing > 0])==0)"
   ]
  },
  {
   "cell_type": "code",
   "execution_count": 26,
   "metadata": {
    "collapsed": true
   },
   "outputs": [],
   "source": [
    "file_path = work_dir + using_year + '-nfl-other.csv'\n",
    "other.to_csv(file_path, index=False)"
   ]
  },
  {
   "cell_type": "code",
   "execution_count": 27,
   "metadata": {
    "collapsed": false
   },
   "outputs": [
    {
     "name": "stdout",
     "output_type": "stream",
     "text": [
      "\n",
      "2 columns with unchanging data will be dropped: IsTwoPointConversion, IsTwoPointConversionSuccessful\n"
     ]
    },
    {
     "data": {
      "text/plain": [
       "PlayType            38\n",
       "PassType         17214\n",
       "RushDirection    23026\n",
       "dtype: int64"
      ]
     },
     "execution_count": 27,
     "metadata": {},
     "output_type": "execute_result"
    }
   ],
   "source": [
    "raw = raw.drop(raw[raw['Down']==0].index)\n",
    "raw = dropUnchanging(raw)\n",
    "missing = len(raw) - raw.count()\n",
    "missing[missing > 0]"
   ]
  },
  {
   "cell_type": "markdown",
   "metadata": {},
   "source": [
    "### Plays Table"
   ]
  },
  {
   "cell_type": "markdown",
   "metadata": {},
   "source": [
    "Now there are only three columns with missing data. PassType is only relevant during a pass and rush direction is only relevant during a rush. As such, there is no real missing data from either of these columns according to the following groupby: "
   ]
  },
  {
   "cell_type": "code",
   "execution_count": 28,
   "metadata": {
    "collapsed": false
   },
   "outputs": [
    {
     "data": {
      "text/html": [
       "<div>\n",
       "<table border=\"1\" class=\"dataframe\">\n",
       "  <thead>\n",
       "    <tr style=\"text-align: right;\">\n",
       "      <th></th>\n",
       "      <th>PlayType</th>\n",
       "      <th>PassType</th>\n",
       "      <th>RushDirection</th>\n",
       "    </tr>\n",
       "    <tr>\n",
       "      <th>PlayType</th>\n",
       "      <th></th>\n",
       "      <th></th>\n",
       "      <th></th>\n",
       "    </tr>\n",
       "  </thead>\n",
       "  <tbody>\n",
       "    <tr>\n",
       "      <th>CLOCK STOP</th>\n",
       "      <td>68</td>\n",
       "      <td>0</td>\n",
       "      <td>0</td>\n",
       "    </tr>\n",
       "    <tr>\n",
       "      <th>EXCEPTION</th>\n",
       "      <td>63</td>\n",
       "      <td>0</td>\n",
       "      <td>0</td>\n",
       "    </tr>\n",
       "    <tr>\n",
       "      <th>FIELD GOAL</th>\n",
       "      <td>991</td>\n",
       "      <td>0</td>\n",
       "      <td>0</td>\n",
       "    </tr>\n",
       "    <tr>\n",
       "      <th>FUMBLES</th>\n",
       "      <td>92</td>\n",
       "      <td>0</td>\n",
       "      <td>0</td>\n",
       "    </tr>\n",
       "    <tr>\n",
       "      <th>PASS</th>\n",
       "      <td>17675</td>\n",
       "      <td>17675</td>\n",
       "      <td>0</td>\n",
       "    </tr>\n",
       "    <tr>\n",
       "      <th>PUNT</th>\n",
       "      <td>2060</td>\n",
       "      <td>0</td>\n",
       "      <td>0</td>\n",
       "    </tr>\n",
       "    <tr>\n",
       "      <th>QB KNEEL</th>\n",
       "      <td>373</td>\n",
       "      <td>0</td>\n",
       "      <td>0</td>\n",
       "    </tr>\n",
       "    <tr>\n",
       "      <th>RUSH</th>\n",
       "      <td>11863</td>\n",
       "      <td>0</td>\n",
       "      <td>11863</td>\n",
       "    </tr>\n",
       "    <tr>\n",
       "      <th>SACK</th>\n",
       "      <td>1064</td>\n",
       "      <td>0</td>\n",
       "      <td>0</td>\n",
       "    </tr>\n",
       "    <tr>\n",
       "      <th>SCRAMBLE</th>\n",
       "      <td>602</td>\n",
       "      <td>0</td>\n",
       "      <td>0</td>\n",
       "    </tr>\n",
       "  </tbody>\n",
       "</table>\n",
       "</div>"
      ],
      "text/plain": [
       "            PlayType  PassType  RushDirection\n",
       "PlayType                                     \n",
       "CLOCK STOP        68         0              0\n",
       "EXCEPTION         63         0              0\n",
       "FIELD GOAL       991         0              0\n",
       "FUMBLES           92         0              0\n",
       "PASS           17675     17675              0\n",
       "PUNT            2060         0              0\n",
       "QB KNEEL         373         0              0\n",
       "RUSH           11863         0          11863\n",
       "SACK            1064         0              0\n",
       "SCRAMBLE         602         0              0"
      ]
     },
     "execution_count": 28,
     "metadata": {},
     "output_type": "execute_result"
    }
   ],
   "source": [
    "raw.groupby('PlayType')['PlayType', 'PassType', 'RushDirection'].count()"
   ]
  },
  {
   "cell_type": "markdown",
   "metadata": {},
   "source": [
    "Let's fill the missing data in PassType and RushDirection with 'NOT APPLICABLE' to make the distinction clear:"
   ]
  },
  {
   "cell_type": "code",
   "execution_count": 29,
   "metadata": {
    "collapsed": false
   },
   "outputs": [],
   "source": [
    "raw['PassType'].fillna(value='NOT APPLICABLE', axis=0, inplace=True)\n",
    "raw['RushDirection'].fillna(value='NOT APPLICABLE', axis=0, inplace=True)"
   ]
  },
  {
   "cell_type": "code",
   "execution_count": 30,
   "metadata": {
    "collapsed": true
   },
   "outputs": [],
   "source": [
    "assert(raw['PassType'].dtype == np.dtype('O'))\n",
    "assert(raw['RushDirection'].dtype == np.dtype('O'))"
   ]
  },
  {
   "cell_type": "markdown",
   "metadata": {},
   "source": [
    "Finally, the small amount of missing data from PlayType can be filled with data from the Description column:"
   ]
  },
  {
   "cell_type": "code",
   "execution_count": 31,
   "metadata": {
    "collapsed": false
   },
   "outputs": [
    {
     "data": {
      "text/html": [
       "<div>\n",
       "<table border=\"1\" class=\"dataframe\">\n",
       "  <thead>\n",
       "    <tr style=\"text-align: right;\">\n",
       "      <th></th>\n",
       "      <th>PlayType</th>\n",
       "      <th>Description</th>\n",
       "      <th>Formation</th>\n",
       "    </tr>\n",
       "  </thead>\n",
       "  <tbody>\n",
       "    <tr>\n",
       "      <th>1914</th>\n",
       "      <td>NaN</td>\n",
       "      <td>(8:13) DIRECT SNAP TO 21-J.MCKINNON.  48-Z.LIN...</td>\n",
       "      <td>UNDER CENTER</td>\n",
       "    </tr>\n",
       "    <tr>\n",
       "      <th>7365</th>\n",
       "      <td>NaN</td>\n",
       "      <td>(13:22) (SHOTGUN) DIRECT SNAP TO 25-L.MCCOY.  ...</td>\n",
       "      <td>SHOTGUN</td>\n",
       "    </tr>\n",
       "    <tr>\n",
       "      <th>10098</th>\n",
       "      <td>NaN</td>\n",
       "      <td>(4:15) (SHOTGUN) DIRECT SNAP TO 86-J.WRIGHT.  ...</td>\n",
       "      <td>SHOTGUN</td>\n",
       "    </tr>\n",
       "    <tr>\n",
       "      <th>10191</th>\n",
       "      <td>NaN</td>\n",
       "      <td>(14:50) DIRECT SNAP TO 29-D.JOHNSON.  29-D.JOH...</td>\n",
       "      <td>UNDER CENTER</td>\n",
       "    </tr>\n",
       "    <tr>\n",
       "      <th>15466</th>\n",
       "      <td>NaN</td>\n",
       "      <td>(9:43) (SHOTGUN) DIRECT SNAP TO 11-T.PRYOR.  1...</td>\n",
       "      <td>SHOTGUN</td>\n",
       "    </tr>\n",
       "    <tr>\n",
       "      <th>18171</th>\n",
       "      <td>NaN</td>\n",
       "      <td>(9:54) DIRECT SNAP TO 35-M.GILLISLEE.  35-M.GI...</td>\n",
       "      <td>UNDER CENTER</td>\n",
       "    </tr>\n",
       "    <tr>\n",
       "      <th>18177</th>\n",
       "      <td>NaN</td>\n",
       "      <td>(6:18) DIRECT SNAP TO 25-L.MCCOY.  25-L.MCCOY ...</td>\n",
       "      <td>UNDER CENTER</td>\n",
       "    </tr>\n",
       "    <tr>\n",
       "      <th>18221</th>\n",
       "      <td>NaN</td>\n",
       "      <td>(1:57) DIRECT SNAP TO 25-L.MCCOY.  25-L.MCCOY ...</td>\n",
       "      <td>UNDER CENTER</td>\n",
       "    </tr>\n",
       "    <tr>\n",
       "      <th>18271</th>\n",
       "      <td>NaN</td>\n",
       "      <td>(15:00) DIRECT SNAP TO 11-J.EDELMAN.  29-L.BLO...</td>\n",
       "      <td>UNDER CENTER</td>\n",
       "    </tr>\n",
       "    <tr>\n",
       "      <th>18302</th>\n",
       "      <td>NaN</td>\n",
       "      <td>(2:41) DIRECT SNAP TO 25-L.MCCOY.  25-L.MCCOY ...</td>\n",
       "      <td>UNDER CENTER</td>\n",
       "    </tr>\n",
       "    <tr>\n",
       "      <th>18485</th>\n",
       "      <td>NaN</td>\n",
       "      <td>(7:03) (SHOTGUN) DIRECT SNAP TO 11-T.PRYOR.  1...</td>\n",
       "      <td>SHOTGUN</td>\n",
       "    </tr>\n",
       "    <tr>\n",
       "      <th>18507</th>\n",
       "      <td>NaN</td>\n",
       "      <td>(13:50) (SHOTGUN) DIRECT SNAP TO 29-D.JOHNSON....</td>\n",
       "      <td>SHOTGUN</td>\n",
       "    </tr>\n",
       "    <tr>\n",
       "      <th>21430</th>\n",
       "      <td>NaN</td>\n",
       "      <td>(7:28) (SHOTGUN) DIRECT SNAP TO 22-R.BUSH.  22...</td>\n",
       "      <td>SHOTGUN</td>\n",
       "    </tr>\n",
       "    <tr>\n",
       "      <th>23095</th>\n",
       "      <td>NaN</td>\n",
       "      <td>(7:46) (SHOTGUN) DIRECT SNAP TO 28-J.STEWART. ...</td>\n",
       "      <td>SHOTGUN</td>\n",
       "    </tr>\n",
       "    <tr>\n",
       "      <th>23371</th>\n",
       "      <td>NaN</td>\n",
       "      <td>(5:18) (SHOTGUN) DIRECT SNAP TO 11-T.PRYOR.  1...</td>\n",
       "      <td>SHOTGUN</td>\n",
       "    </tr>\n",
       "    <tr>\n",
       "      <th>25582</th>\n",
       "      <td>NaN</td>\n",
       "      <td>(9:20) DIRECT SNAP TO 35-M.GILLISLEE.  35-M.GI...</td>\n",
       "      <td>UNDER CENTER</td>\n",
       "    </tr>\n",
       "    <tr>\n",
       "      <th>27000</th>\n",
       "      <td>NaN</td>\n",
       "      <td>(14:01) (SHOTGUN) DIRECT SNAP TO 29-D.MURRAY. ...</td>\n",
       "      <td>SHOTGUN</td>\n",
       "    </tr>\n",
       "    <tr>\n",
       "      <th>29053</th>\n",
       "      <td>NaN</td>\n",
       "      <td>(3:13) DIRECT SNAP TO 44-M.ASIATA.  44-M.ASIAT...</td>\n",
       "      <td>UNDER CENTER</td>\n",
       "    </tr>\n",
       "    <tr>\n",
       "      <th>30882</th>\n",
       "      <td>NaN</td>\n",
       "      <td>(10:15) (SHOTGUN) DIRECT SNAP TO 23-F.GORE.  2...</td>\n",
       "      <td>SHOTGUN</td>\n",
       "    </tr>\n",
       "    <tr>\n",
       "      <th>31136</th>\n",
       "      <td>NaN</td>\n",
       "      <td>(10:33) DIRECT SNAP TO 25-L.MCCOY.  25-L.MCCOY...</td>\n",
       "      <td>UNDER CENTER</td>\n",
       "    </tr>\n",
       "    <tr>\n",
       "      <th>31895</th>\n",
       "      <td>NaN</td>\n",
       "      <td>(7:14) (SHOTGUN) DIRECT SNAP TO 30-T.GURLEY.  ...</td>\n",
       "      <td>SHOTGUN</td>\n",
       "    </tr>\n",
       "    <tr>\n",
       "      <th>32547</th>\n",
       "      <td>NaN</td>\n",
       "      <td>(14:12) DIRECT SNAP TO 21-J.MCKINNON.  21-J.MC...</td>\n",
       "      <td>UNDER CENTER</td>\n",
       "    </tr>\n",
       "    <tr>\n",
       "      <th>35571</th>\n",
       "      <td>NaN</td>\n",
       "      <td>(5:04) (SHOTGUN) DIRECT SNAP TO 13-B.MILLER.  ...</td>\n",
       "      <td>SHOTGUN</td>\n",
       "    </tr>\n",
       "    <tr>\n",
       "      <th>35804</th>\n",
       "      <td>NaN</td>\n",
       "      <td>(4:32) DIRECT SNAP TO 21-J.MCKINNON.  21-J.MCK...</td>\n",
       "      <td>UNDER CENTER</td>\n",
       "    </tr>\n",
       "    <tr>\n",
       "      <th>36151</th>\n",
       "      <td>NaN</td>\n",
       "      <td>(4:24) (SHOTGUN) DIRECT SNAP TO 12-M.SANU.  12...</td>\n",
       "      <td>SHOTGUN</td>\n",
       "    </tr>\n",
       "    <tr>\n",
       "      <th>36161</th>\n",
       "      <td>NaN</td>\n",
       "      <td>(:20) DIRECT SNAP TO 33-K.WILLIAMS.  31-D.JOHN...</td>\n",
       "      <td>UNDER CENTER</td>\n",
       "    </tr>\n",
       "    <tr>\n",
       "      <th>38089</th>\n",
       "      <td>NaN</td>\n",
       "      <td>(:40) DIRECT SNAP TO 32-J.HILL.  32-J.HILL RIG...</td>\n",
       "      <td>UNDER CENTER</td>\n",
       "    </tr>\n",
       "    <tr>\n",
       "      <th>38637</th>\n",
       "      <td>NaN</td>\n",
       "      <td>(5:12) (SHOTGUN) DIRECT SNAP TO 25-L.MCCOY.  2...</td>\n",
       "      <td>SHOTGUN</td>\n",
       "    </tr>\n",
       "    <tr>\n",
       "      <th>39803</th>\n",
       "      <td>NaN</td>\n",
       "      <td>(5:27) DIRECT SNAP TO 21-J.MCKINNON.  21-J.MCK...</td>\n",
       "      <td>UNDER CENTER</td>\n",
       "    </tr>\n",
       "    <tr>\n",
       "      <th>39902</th>\n",
       "      <td>NaN</td>\n",
       "      <td>(8:58) DIRECT SNAP TO 33-K.WILLIAMS.  33-K.WIL...</td>\n",
       "      <td>UNDER CENTER</td>\n",
       "    </tr>\n",
       "    <tr>\n",
       "      <th>39949</th>\n",
       "      <td>NaN</td>\n",
       "      <td>(11:11) (SHOTGUN) DIRECT SNAP TO 33-K.WILLIAMS...</td>\n",
       "      <td>SHOTGUN</td>\n",
       "    </tr>\n",
       "    <tr>\n",
       "      <th>41885</th>\n",
       "      <td>NaN</td>\n",
       "      <td>(11:22) (SHOTGUN) DIRECT SNAP TO 11-T.AUSTIN. ...</td>\n",
       "      <td>SHOTGUN</td>\n",
       "    </tr>\n",
       "    <tr>\n",
       "      <th>42284</th>\n",
       "      <td>NaN</td>\n",
       "      <td>(9:15) (SHOTGUN) DIRECT SNAP TO 15-D.AYERS.  1...</td>\n",
       "      <td>SHOTGUN</td>\n",
       "    </tr>\n",
       "    <tr>\n",
       "      <th>42551</th>\n",
       "      <td>NaN</td>\n",
       "      <td>(:27) DIRECT SNAP TO 21-J.MCKINNON.  21-J.MCKI...</td>\n",
       "      <td>UNDER CENTER</td>\n",
       "    </tr>\n",
       "    <tr>\n",
       "      <th>43530</th>\n",
       "      <td>NaN</td>\n",
       "      <td>(:15) DIRECT SNAP TO 29-B.POWELL.  29-B.POWELL...</td>\n",
       "      <td>UNDER CENTER</td>\n",
       "    </tr>\n",
       "    <tr>\n",
       "      <th>44635</th>\n",
       "      <td>NaN</td>\n",
       "      <td>(3:49) DIRECT SNAP TO 33-K.WILLIAMS.  33-K.WIL...</td>\n",
       "      <td>UNDER CENTER</td>\n",
       "    </tr>\n",
       "    <tr>\n",
       "      <th>45135</th>\n",
       "      <td>NaN</td>\n",
       "      <td>(12:38) (SHOTGUN) DIRECT SNAP TO 33-K.WILLIAMS...</td>\n",
       "      <td>SHOTGUN</td>\n",
       "    </tr>\n",
       "    <tr>\n",
       "      <th>45142</th>\n",
       "      <td>NaN</td>\n",
       "      <td>(13:35) (SHOTGUN) DIRECT SNAP TO 33-K.WILLIAMS...</td>\n",
       "      <td>SHOTGUN</td>\n",
       "    </tr>\n",
       "  </tbody>\n",
       "</table>\n",
       "</div>"
      ],
      "text/plain": [
       "      PlayType                                        Description  \\\n",
       "1914       NaN  (8:13) DIRECT SNAP TO 21-J.MCKINNON.  48-Z.LIN...   \n",
       "7365       NaN  (13:22) (SHOTGUN) DIRECT SNAP TO 25-L.MCCOY.  ...   \n",
       "10098      NaN  (4:15) (SHOTGUN) DIRECT SNAP TO 86-J.WRIGHT.  ...   \n",
       "10191      NaN  (14:50) DIRECT SNAP TO 29-D.JOHNSON.  29-D.JOH...   \n",
       "15466      NaN  (9:43) (SHOTGUN) DIRECT SNAP TO 11-T.PRYOR.  1...   \n",
       "18171      NaN  (9:54) DIRECT SNAP TO 35-M.GILLISLEE.  35-M.GI...   \n",
       "18177      NaN  (6:18) DIRECT SNAP TO 25-L.MCCOY.  25-L.MCCOY ...   \n",
       "18221      NaN  (1:57) DIRECT SNAP TO 25-L.MCCOY.  25-L.MCCOY ...   \n",
       "18271      NaN  (15:00) DIRECT SNAP TO 11-J.EDELMAN.  29-L.BLO...   \n",
       "18302      NaN  (2:41) DIRECT SNAP TO 25-L.MCCOY.  25-L.MCCOY ...   \n",
       "18485      NaN  (7:03) (SHOTGUN) DIRECT SNAP TO 11-T.PRYOR.  1...   \n",
       "18507      NaN  (13:50) (SHOTGUN) DIRECT SNAP TO 29-D.JOHNSON....   \n",
       "21430      NaN  (7:28) (SHOTGUN) DIRECT SNAP TO 22-R.BUSH.  22...   \n",
       "23095      NaN  (7:46) (SHOTGUN) DIRECT SNAP TO 28-J.STEWART. ...   \n",
       "23371      NaN  (5:18) (SHOTGUN) DIRECT SNAP TO 11-T.PRYOR.  1...   \n",
       "25582      NaN  (9:20) DIRECT SNAP TO 35-M.GILLISLEE.  35-M.GI...   \n",
       "27000      NaN  (14:01) (SHOTGUN) DIRECT SNAP TO 29-D.MURRAY. ...   \n",
       "29053      NaN  (3:13) DIRECT SNAP TO 44-M.ASIATA.  44-M.ASIAT...   \n",
       "30882      NaN  (10:15) (SHOTGUN) DIRECT SNAP TO 23-F.GORE.  2...   \n",
       "31136      NaN  (10:33) DIRECT SNAP TO 25-L.MCCOY.  25-L.MCCOY...   \n",
       "31895      NaN  (7:14) (SHOTGUN) DIRECT SNAP TO 30-T.GURLEY.  ...   \n",
       "32547      NaN  (14:12) DIRECT SNAP TO 21-J.MCKINNON.  21-J.MC...   \n",
       "35571      NaN  (5:04) (SHOTGUN) DIRECT SNAP TO 13-B.MILLER.  ...   \n",
       "35804      NaN  (4:32) DIRECT SNAP TO 21-J.MCKINNON.  21-J.MCK...   \n",
       "36151      NaN  (4:24) (SHOTGUN) DIRECT SNAP TO 12-M.SANU.  12...   \n",
       "36161      NaN  (:20) DIRECT SNAP TO 33-K.WILLIAMS.  31-D.JOHN...   \n",
       "38089      NaN  (:40) DIRECT SNAP TO 32-J.HILL.  32-J.HILL RIG...   \n",
       "38637      NaN  (5:12) (SHOTGUN) DIRECT SNAP TO 25-L.MCCOY.  2...   \n",
       "39803      NaN  (5:27) DIRECT SNAP TO 21-J.MCKINNON.  21-J.MCK...   \n",
       "39902      NaN  (8:58) DIRECT SNAP TO 33-K.WILLIAMS.  33-K.WIL...   \n",
       "39949      NaN  (11:11) (SHOTGUN) DIRECT SNAP TO 33-K.WILLIAMS...   \n",
       "41885      NaN  (11:22) (SHOTGUN) DIRECT SNAP TO 11-T.AUSTIN. ...   \n",
       "42284      NaN  (9:15) (SHOTGUN) DIRECT SNAP TO 15-D.AYERS.  1...   \n",
       "42551      NaN  (:27) DIRECT SNAP TO 21-J.MCKINNON.  21-J.MCKI...   \n",
       "43530      NaN  (:15) DIRECT SNAP TO 29-B.POWELL.  29-B.POWELL...   \n",
       "44635      NaN  (3:49) DIRECT SNAP TO 33-K.WILLIAMS.  33-K.WIL...   \n",
       "45135      NaN  (12:38) (SHOTGUN) DIRECT SNAP TO 33-K.WILLIAMS...   \n",
       "45142      NaN  (13:35) (SHOTGUN) DIRECT SNAP TO 33-K.WILLIAMS...   \n",
       "\n",
       "          Formation  \n",
       "1914   UNDER CENTER  \n",
       "7365        SHOTGUN  \n",
       "10098       SHOTGUN  \n",
       "10191  UNDER CENTER  \n",
       "15466       SHOTGUN  \n",
       "18171  UNDER CENTER  \n",
       "18177  UNDER CENTER  \n",
       "18221  UNDER CENTER  \n",
       "18271  UNDER CENTER  \n",
       "18302  UNDER CENTER  \n",
       "18485       SHOTGUN  \n",
       "18507       SHOTGUN  \n",
       "21430       SHOTGUN  \n",
       "23095       SHOTGUN  \n",
       "23371       SHOTGUN  \n",
       "25582  UNDER CENTER  \n",
       "27000       SHOTGUN  \n",
       "29053  UNDER CENTER  \n",
       "30882       SHOTGUN  \n",
       "31136  UNDER CENTER  \n",
       "31895       SHOTGUN  \n",
       "32547  UNDER CENTER  \n",
       "35571       SHOTGUN  \n",
       "35804  UNDER CENTER  \n",
       "36151       SHOTGUN  \n",
       "36161  UNDER CENTER  \n",
       "38089  UNDER CENTER  \n",
       "38637       SHOTGUN  \n",
       "39803  UNDER CENTER  \n",
       "39902  UNDER CENTER  \n",
       "39949       SHOTGUN  \n",
       "41885       SHOTGUN  \n",
       "42284       SHOTGUN  \n",
       "42551  UNDER CENTER  \n",
       "43530  UNDER CENTER  \n",
       "44635  UNDER CENTER  \n",
       "45135       SHOTGUN  \n",
       "45142       SHOTGUN  "
      ]
     },
     "execution_count": 31,
     "metadata": {},
     "output_type": "execute_result"
    }
   ],
   "source": [
    "raw['PlayType'].value_counts()\n",
    "noplay = raw[raw['PlayType'].isnull()]\n",
    "noplay[['PlayType','Description','Formation']]"
   ]
  },
  {
   "cell_type": "markdown",
   "metadata": {},
   "source": [
    "From the above view we can see that all the missing values are direct snap plays, lets fill these missing values:"
   ]
  },
  {
   "cell_type": "code",
   "execution_count": 32,
   "metadata": {
    "collapsed": false
   },
   "outputs": [],
   "source": [
    "raw['PlayType'].fillna(value='DIRECT SNAP', axis=0, inplace=True)"
   ]
  },
  {
   "cell_type": "code",
   "execution_count": 33,
   "metadata": {
    "collapsed": true
   },
   "outputs": [],
   "source": [
    "assert(raw['PlayType'].dtype == np.dtype('O'))"
   ]
  },
  {
   "cell_type": "code",
   "execution_count": 34,
   "metadata": {
    "collapsed": false
   },
   "outputs": [],
   "source": [
    "assert((sorted(raw['IsRush'].unique()) == np.array([0, 1])).all())\n",
    "assert((sorted(raw['IsPass'].unique()) == np.array([0, 1])).all())\n",
    "assert((sorted(raw['IsIncomplete'].unique()) == np.array([0, 1])).all())\n",
    "assert((sorted(raw['IsTouchdown'].unique()) == np.array([0, 1])).all())\n",
    "assert((sorted(raw['IsSack'].unique()) == np.array([0, 1])).all())\n",
    "assert((sorted(raw['IsChallenge'].unique()) == np.array([0, 1])).all())\n",
    "assert((sorted(raw['IsChallengeReversed'].unique()) == np.array([0, 1])).all())\n",
    "assert((sorted(raw['IsInterception'].unique()) == np.array([0, 1])).all())\n",
    "assert((sorted(raw['IsFumble'].unique()) == np.array([0, 1])).all())\n",
    "missing = len(raw) - raw.count()\n",
    "assert(len(missing[missing > 0])==0)"
   ]
  },
  {
   "cell_type": "markdown",
   "metadata": {},
   "source": [
    "Now that all of the notable missing data has been accounted for, lets save the table that contains most of the game play. This is the most important table and where most of the analysis and modelling will come from:"
   ]
  },
  {
   "cell_type": "code",
   "execution_count": 35,
   "metadata": {
    "collapsed": false
   },
   "outputs": [],
   "source": [
    "file_path = work_dir + using_year + '-nfl-plays.csv'\n",
    "raw.to_csv(file_path, index=False)"
   ]
  },
  {
   "cell_type": "markdown",
   "metadata": {
    "collapsed": true
   },
   "source": [
    "## Data Imputation and Consolidation"
   ]
  },
  {
   "cell_type": "markdown",
   "metadata": {},
   "source": [
    "This section of the notebook will deal with small data filling/inputations and consolidating rare or one-off data values."
   ]
  },
  {
   "cell_type": "code",
   "execution_count": 36,
   "metadata": {
    "collapsed": false
   },
   "outputs": [],
   "source": [
    "file_path = work_dir + using_year + '-nfl-plays.csv'\n",
    "plays = pd.read_csv(file_path)"
   ]
  },
  {
   "cell_type": "markdown",
   "metadata": {},
   "source": [
    "As is clear below, many of the possible values of PassType are meangingless. Even worse, they are one-off values that would be useless to a learning algorithm. We will consolidate all of these infrequent values into a new value - 'UNKNOWN':"
   ]
  },
  {
   "cell_type": "code",
   "execution_count": 37,
   "metadata": {
    "collapsed": false
   },
   "outputs": [
    {
     "data": {
      "text/plain": [
       "SHORT RIGHT                   5891\n",
       "SHORT LEFT                    5213\n",
       "SHORT MIDDLE                  3404\n",
       "DEEP RIGHT                    1223\n",
       "DEEP LEFT                     1212\n",
       "DEEP MIDDLE                    716\n",
       "INTENDED FOR                     4\n",
       "NOT LISTED                       3\n",
       "BACK TO                          1\n",
       "RIGHT (58-JHICKS)                1\n",
       "(6:33) 11-ASMITH                 1\n",
       "MIDDLE TO                        1\n",
       "(55-A.BROOKS) [53-NBOWMAN]       1\n",
       "(94-C.LIUGET) [99-JBOSA]         1\n",
       "(:15) (SHOTGUN)                  1\n",
       "(4:03) (NO                       1\n",
       "KESSLER THROUGH                  1\n",
       "Name: PassType, dtype: int64"
      ]
     },
     "execution_count": 37,
     "metadata": {},
     "output_type": "execute_result"
    }
   ],
   "source": [
    "pass_values = plays[plays['IsPass']==1]['PassType'].value_counts()\n",
    "pass_values"
   ]
  },
  {
   "cell_type": "code",
   "execution_count": 38,
   "metadata": {
    "collapsed": false
   },
   "outputs": [],
   "source": [
    "plays.loc[plays['PassType'].isin(list(pass_values.iloc[6:].index)), 'PassType'] = 'UNKNOWN'"
   ]
  },
  {
   "cell_type": "code",
   "execution_count": 39,
   "metadata": {
    "collapsed": false
   },
   "outputs": [],
   "source": [
    "assert('NOT LISTED' not in plays['PassType'].unique())\n",
    "assert(len(plays[plays['PassType']=='UNKNOWN']) <= 16)\n",
    "assert(plays['PassType'].dtype == np.dtype('O'))"
   ]
  },
  {
   "cell_type": "code",
   "execution_count": 40,
   "metadata": {
    "collapsed": true
   },
   "outputs": [],
   "source": [
    "file_path = work_dir + using_year + '-nfl-plays.csv'\n",
    "plays.to_csv(file_path, index=False)"
   ]
  },
  {
   "cell_type": "markdown",
   "metadata": {},
   "source": [
    "The Formation value 'WILDCAT' is another rare value that can be consolidated. The Wildcat formation for football corresponds to the Direct Snap play. In order for the Formation column to be consistent with the PlayType column, the WILDCAT value must be converted to either SHOTGUN, UNDER CENTER, or NO HUDDLE SHOTGUN. Based on the Description column, all the WILDCAT values should be consolidated to SHOTGUN:"
   ]
  },
  {
   "cell_type": "code",
   "execution_count": 41,
   "metadata": {
    "collapsed": false
   },
   "outputs": [
    {
     "data": {
      "text/plain": [
       "SHOTGUN              17064\n",
       "UNDER CENTER         11177\n",
       "NO HUDDLE SHOTGUN     3042\n",
       "PUNT                  2046\n",
       "FIELD GOAL             992\n",
       "NO HUDDLE              565\n",
       "WILDCAT                  3\n",
       "Name: Formation, dtype: int64"
      ]
     },
     "execution_count": 41,
     "metadata": {},
     "output_type": "execute_result"
    }
   ],
   "source": [
    "plays['Formation'].value_counts()"
   ]
  },
  {
   "cell_type": "code",
   "execution_count": 42,
   "metadata": {
    "collapsed": false
   },
   "outputs": [
    {
     "data": {
      "text/plain": [
       "18750    (12:39) (SHOTGUN) 11-T.AUSTIN RIGHT END TO NYG...\n",
       "18761    (7:26) (SHOTGUN) 23-B.CUNNINGHAM LEFT TACKLE T...\n",
       "27225    (15:00) 32-R.KELLEY RIGHT GUARD TO DAL 6 FOR -...\n",
       "Name: Description, dtype: object"
      ]
     },
     "execution_count": 42,
     "metadata": {},
     "output_type": "execute_result"
    }
   ],
   "source": [
    "plays[plays['Formation']=='WILDCAT']['Description']"
   ]
  },
  {
   "cell_type": "code",
   "execution_count": 43,
   "metadata": {
    "collapsed": false
   },
   "outputs": [],
   "source": [
    "plays.loc[plays['Formation']=='WILDCAT', 'PlayType'] = 'DIRECT SNAP'\n",
    "plays.loc[plays['Formation']=='WILDCAT', 'Formation'] = 'SHOTGUN'"
   ]
  },
  {
   "cell_type": "code",
   "execution_count": 44,
   "metadata": {
    "collapsed": false
   },
   "outputs": [],
   "source": [
    "assert('WILDCAT' not in plays['Formation'].unique())\n",
    "assert(plays['PlayType'].dtype == np.dtype('O'))\n",
    "assert(plays['Formation'].dtype == np.dtype('O'))"
   ]
  },
  {
   "cell_type": "markdown",
   "metadata": {},
   "source": [
    "As a final change, let's flip the values of IsIncomplete and rename it to IsCompleted for future convenience:"
   ]
  },
  {
   "cell_type": "code",
   "execution_count": 45,
   "metadata": {
    "collapsed": false
   },
   "outputs": [],
   "source": [
    "old = plays['IsIncomplete'].copy()\n",
    "plays['IsIncomplete'] = 1 - plays['IsIncomplete']\n",
    "plays.rename(columns={'IsIncomplete': 'IsCompleted'}, inplace=True)"
   ]
  },
  {
   "cell_type": "code",
   "execution_count": 46,
   "metadata": {
    "collapsed": false
   },
   "outputs": [],
   "source": [
    "assert('IsIncomplete' not in plays.columns)\n",
    "assert((old == 1 - plays['IsCompleted']).all())"
   ]
  },
  {
   "cell_type": "code",
   "execution_count": 47,
   "metadata": {
    "collapsed": false
   },
   "outputs": [],
   "source": [
    "assert((sorted(plays['IsRush'].unique()) == np.array([0, 1])).all())\n",
    "assert((sorted(plays['IsPass'].unique()) == np.array([0, 1])).all())\n",
    "assert((sorted(plays['IsCompleted'].unique()) == np.array([0, 1])).all())\n",
    "assert((sorted(plays['IsTouchdown'].unique()) == np.array([0, 1])).all())\n",
    "assert((sorted(plays['IsSack'].unique()) == np.array([0, 1])).all())\n",
    "assert((sorted(plays['IsChallenge'].unique()) == np.array([0, 1])).all())\n",
    "assert((sorted(plays['IsChallengeReversed'].unique()) == np.array([0, 1])).all())\n",
    "assert((sorted(plays['IsInterception'].unique()) == np.array([0, 1])).all())\n",
    "assert((sorted(plays['IsFumble'].unique()) == np.array([0, 1])).all())"
   ]
  },
  {
   "cell_type": "code",
   "execution_count": 48,
   "metadata": {
    "collapsed": true
   },
   "outputs": [],
   "source": [
    "file_path = work_dir + using_year + '-nfl-plays.csv'\n",
    "plays.to_csv(file_path, index=False)"
   ]
  },
  {
   "cell_type": "code",
   "execution_count": null,
   "metadata": {
    "collapsed": true
   },
   "outputs": [],
   "source": []
  }
 ],
 "metadata": {
  "kernelspec": {
   "display_name": "Python [Root]",
   "language": "python",
   "name": "Python [Root]"
  },
  "language_info": {
   "codemirror_mode": {
    "name": "ipython",
    "version": 3
   },
   "file_extension": ".py",
   "mimetype": "text/x-python",
   "name": "python",
   "nbconvert_exporter": "python",
   "pygments_lexer": "ipython3",
   "version": "3.5.2"
  }
 },
 "nbformat": 4,
 "nbformat_minor": 1
}
