{
 "cells": [
  {
   "cell_type": "markdown",
   "metadata": {},
   "source": [
    "# Introduction"
   ]
  },
  {
   "cell_type": "markdown",
   "metadata": {},
   "source": [
    "© MIT Kevin Patel\n",
    "\n",
    "DATA 301 - Introduction to Data Science"
   ]
  },
  {
   "cell_type": "markdown",
   "metadata": {},
   "source": [
    "## Abstract"
   ]
  },
  {
   "cell_type": "markdown",
   "metadata": {},
   "source": [
    "Football is a complicated spectator sport, especially compared to other popular spectator sports such as basketball and soccer. Unlike many sports football has large teams, highly specialized team roles, and multiple ways of gaining points. This work attempts to shed light on major league football play by examining a dataset of free play-by-play data from the 2016 NFL season. Owing to the complexity of the game, this work will focus primarily on plays and yardage as these have the most effect on game outcomes. Exploratory data analysis will answer questions about the game and season such as variables affecting passing and rushing plays. This work also includes two different classifiers - one for yardage and another for pass completions with two different implementations each that are discussed in depth. The first classifer (Binary Yardage) best implementation acheived an accuracy of 74%, precision of 85%, and recall of 67%. The second (Binary Pass Completion) best implementation acheived an F1 score of nearly 79%."
   ]
  },
  {
   "cell_type": "markdown",
   "metadata": {},
   "source": [
    "## Description of the dataset"
   ]
  },
  {
   "cell_type": "markdown",
   "metadata": {},
   "source": [
    "The dataset was compiled by Daren Willman and is hosted on the NFLsavant.com website. He has play-by-play data of the NFL regular seasons and playoffs organized by year starting from 2013. The data is free for use."
   ]
  },
  {
   "cell_type": "markdown",
   "metadata": {},
   "source": [
    "This project uses the latest dataset at the time of development - the data from the 2016 NFL season. The raw data contains 45 columns and 45951 rows. After empty and zero-variance columns are dropped there are 36 columns:\n",
    "\n",
    "GameId, GameDate, Quarter, Minute, Second, OffenseTeam, DefenseTeam, Down, ToGo, YardLine, SeriesFirstDown, Description, Yards, Formation, PlayType, IsRush, IsPass, IsIncomplete, IsTouchdown, PassType, IsSack, IsChallenge, IsChallengeReversed, IsInterception, IsFumble, IsPenalty, IsTwoPointConversion, IsTwoPointConversionSuccessful, RushDirection, YardLineFixed, YardLineDirection, IsPenaltyAccepted, PenaltyTeam, IsNoPlay, PenaltyType, PenaltyYards"
   ]
  },
  {
   "cell_type": "markdown",
   "metadata": {},
   "source": [
    "The data is in a tidy format where each observation is a game event such as a play or penalty call. Columns contain information such as the game date, event time in the game, yards gained (if any), and the location of the yardline. The Description column is special in that it describes the event/play in a variable length string. This was probably some or most of the raw data that Willman's data was produced from."
   ]
  },
  {
   "cell_type": "markdown",
   "metadata": {},
   "source": [
    "## Index"
   ]
  },
  {
   "cell_type": "markdown",
   "metadata": {},
   "source": [
    "  - [01-Introduction.ipynb](01-Introduction.ipynb)\n",
    "      - Abstract, description of dataset, citation\n",
    "  - [02-Import.ipynb](02-Import.ipynb)\n",
    "      - Interactive widget to download the data\n",
    "  - [03-Preprocessing.ipynb](03-Preprocessing.ipynb)\n",
    "      - Deal with missing data, inpute data, split into tables\n",
    "  - [04-EDA.ipynb](04-EDA.ipynb)\n",
    "      - Exploration of the 2016 NFL plays dataset through groupbys and visualization\n",
    "  - [05-Modeling.ipynb](05-Modeling.ipynb)\n",
    "      - Predicting variables such as yardage and pass completion via machine learning\n",
    "  - [06-Presentation.ipynb](06-Presentation.ipynb)\n",
    "      - A short narrative notebook summarizing the process and results"
   ]
  },
  {
   "cell_type": "markdown",
   "metadata": {},
   "source": [
    "## Citations"
   ]
  },
  {
   "cell_type": "markdown",
   "metadata": {
    "collapsed": true
   },
   "source": [
    "Willman, Daren. \"Nflsavant.Com: Advanced NFL Statistics\". Nflsavant.com. N.p., 2017. Web. 23 Mar. 2017."
   ]
  }
 ],
 "metadata": {
  "kernelspec": {
   "display_name": "Python [Root]",
   "language": "python",
   "name": "Python [Root]"
  },
  "language_info": {
   "codemirror_mode": {
    "name": "ipython",
    "version": 3
   },
   "file_extension": ".py",
   "mimetype": "text/x-python",
   "name": "python",
   "nbconvert_exporter": "python",
   "pygments_lexer": "ipython3",
   "version": "3.5.2"
  }
 },
 "nbformat": 4,
 "nbformat_minor": 1
}
